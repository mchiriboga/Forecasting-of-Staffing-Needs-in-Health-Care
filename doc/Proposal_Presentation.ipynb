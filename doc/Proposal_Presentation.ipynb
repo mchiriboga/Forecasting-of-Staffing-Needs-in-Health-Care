{
 "cells": [
  {
   "cell_type": "markdown",
   "metadata": {
    "slideshow": {
     "slide_type": "slide"
    }
   },
   "source": [
    "# Forecasting of Staffing Needs"
   ]
  },
  {
   "cell_type": "markdown",
   "metadata": {
    "slideshow": {
     "slide_type": "fragment"
    }
   },
   "source": [
    "### Team Members:\n",
    "- Davy Guo\n",
    "- Iris Yang\n",
    "- Marcelle Chiriboga\n",
    "- Patrick Tung"
   ]
  },
  {
   "cell_type": "markdown",
   "metadata": {
    "slideshow": {
     "slide_type": "slide"
    }
   },
   "source": [
    "## Agenda\n",
    "- Introduction\n",
    "- The Data\n",
    "- Data Science Approaches\n",
    "- Timeline"
   ]
  },
  {
   "cell_type": "markdown",
   "metadata": {
    "slideshow": {
     "slide_type": "slide"
    }
   },
   "source": [
    "# Introduction"
   ]
  },
  {
   "cell_type": "markdown",
   "metadata": {
    "slideshow": {
     "slide_type": "slide"
    }
   },
   "source": [
    "## The Partner - Providence Health Care\n",
    "\n",
    "- Providence Health Care (PHC) is a non-profit organization.\n",
    "- Almost 9,000 people working at their 16 facilities - 6,000 staff, 1,000 medical staff/physicians, 200 researchers, 1,600 volunteers.\n",
    "- PHC is the provincial centre for the care of six groups of people with often-intensive health needs:\n",
    "  - heart and/or lung diseases;\n",
    "  - kidney disease;\n",
    "  - mental illnesses;\n",
    "  - Older British Columbians (residential care, seniors, & geriatrics);\n",
    "  - HIV/AIDS; and\n",
    "  - urban health issues (homelessness, drug & alcohol-related issues & malnutrition)."
   ]
  },
  {
   "cell_type": "markdown",
   "metadata": {
    "slideshow": {
     "slide_type": "slide"
    }
   },
   "source": [
    "## Objective\n",
    "\n",
    "The purpose of this project is to forecasting staffing needs in healthcare on a weekly basis, providing insight on how many back up staff PHC needs to have a full staff."
   ]
  },
  {
   "cell_type": "markdown",
   "metadata": {
    "slideshow": {
     "slide_type": "fragment"
    }
   },
   "source": [
    "## Final Product\n",
    "\n",
    "The final product will consist of:\n",
    "- a dashboard (developed in R Shiny or Tableau);\n",
    "- the scripts containing the code used to proceed with the analysis; and\n",
    "- a report outlining the methodologies and findings."
   ]
  },
  {
   "cell_type": "markdown",
   "metadata": {
    "slideshow": {
     "slide_type": "slide"
    }
   },
   "source": [
    "# The Data"
   ]
  },
  {
   "cell_type": "markdown",
   "metadata": {
    "slideshow": {
     "slide_type": "slide"
    }
   },
   "source": [
    "## Data Description\n",
    "\n",
    "<img src=\"img/data_des.png\" align=middle>"
   ]
  },
  {
   "cell_type": "markdown",
   "metadata": {
    "slideshow": {
     "slide_type": "slide"
    }
   },
   "source": [
    "## Data Wrangling"
   ]
  },
  {
   "cell_type": "markdown",
   "metadata": {
    "slideshow": {
     "slide_type": "fragment"
    }
   },
   "source": [
    "- Raw data is based on exception record: one entry per record\n",
    "- To apply linear regression: make each row a day, summarise the related variables\n",
    "- Feature selection needed"
   ]
  },
  {
   "cell_type": "markdown",
   "metadata": {
    "slideshow": {
     "slide_type": "slide"
    }
   },
   "source": [
    "<table>\n",
    "    <tr>\n",
    "        <td>\n",
    "            <img src=\"img/lr_1_adv.jpg\" align=middle width=\"800\" height=\"600\">\n",
    "        </td>\n",
    "        <td>\n",
    "            <img src=\"img/lr_2_adv30.jpg\" align=middle width=\"800\" height=\"600\">\n",
    "        </td>        \n",
    "    </tr>\n",
    "</table>"
   ]
  },
  {
   "cell_type": "markdown",
   "metadata": {
    "slideshow": {
     "slide_type": "notes"
    }
   },
   "source": [
    "- Around 2/3 of the exceptions are created ahead, and around 1/4 to 1/3 are created at least one month ahead.\n",
    "- The past one year data contains the exceptions with shifts in the future month that are already created.\n",
    "- We can use this part of data as predictors to estimate the actual exceptions."
   ]
  },
  {
   "cell_type": "markdown",
   "metadata": {
    "slideshow": {
     "slide_type": "slide"
    }
   },
   "source": [
    "## Feature Selection"
   ]
  },
  {
   "cell_type": "markdown",
   "metadata": {
    "slideshow": {
     "slide_type": "fragment"
    }
   },
   "source": [
    "- Select correlated variables among 33 columns and other wrangled variables\n",
    "- Some pontential related variables:\n",
    "    - Numbers/Hours of exceptions that are filed ahead\n",
    "    - Exception Group\n",
    "    - Job Family\n",
    "    - Program"
   ]
  },
  {
   "cell_type": "markdown",
   "metadata": {
    "slideshow": {
     "slide_type": "slide"
    }
   },
   "source": [
    "# Data Science Approaches"
   ]
  },
  {
   "cell_type": "markdown",
   "metadata": {
    "slideshow": {
     "slide_type": "fragment"
    }
   },
   "source": [
    "- Time Series\n",
    "- Linear Regression\n",
    "- Neural Network"
   ]
  },
  {
   "cell_type": "markdown",
   "metadata": {
    "slideshow": {
     "slide_type": "slide"
    }
   },
   "source": [
    "## Time Series"
   ]
  },
  {
   "cell_type": "markdown",
   "metadata": {
    "slideshow": {
     "slide_type": "notes"
    }
   },
   "source": [
    "- To explore the pattern through time, we plot the number of exceptions for each day of year 2018.\n",
    "- The scatterplot shows two separate groups."
   ]
  },
  {
   "cell_type": "markdown",
   "metadata": {
    "slideshow": {
     "slide_type": "slide"
    }
   },
   "source": [
    "<img src=\"img/ts_1_day18.jpg\" align=middle width=\"1000\" height=\"800\">"
   ]
  },
  {
   "cell_type": "markdown",
   "metadata": {
    "slideshow": {
     "slide_type": "notes"
    }
   },
   "source": [
    "- By coloring the scatters by weeks, we can see a pattern.\n",
    "- Days around the end of a week, Sunday and Monday, have much less exceptions than other weekdays.\n",
    "- Based on this, we would try a week-based time series to analyze the trend throughout a week."
   ]
  },
  {
   "cell_type": "markdown",
   "metadata": {
    "slideshow": {
     "slide_type": "slide"
    }
   },
   "source": [
    "<img src=\"img/ts_2_day18.jpg\" align=middle width=\"1000\" height=\"800\">"
   ]
  },
  {
   "cell_type": "markdown",
   "metadata": {
    "slideshow": {
     "slide_type": "notes"
    }
   },
   "source": [
    "Overall:\n",
    "\n",
    "- For the year round trend, we plot the number of exceptions in each week, for data of all 9 years.\n",
    "- There are 53 weeks in total while the last \"week\" will only contain one or two days, which is an outlier, so it is eliminated in the graph.\n",
    "\n",
    "Trend:\n",
    "\n",
    "- We can see there is a clear trend throughout a year.\n",
    "- There is a small peak around April, a larger peak around August, and the highest peak at the end of the year.\n",
    "- A year-based time series could be used to analyze this trend. \n",
    "- We will try to extract seasonality and noise to find a more stable year round pattern.\n",
    "- As the company expands, the shifts and exceptions also increase year by year.\n",
    "\n",
    "Things to keep in mind:\n",
    "\n",
    "- The graph also shows us that 2019 and 2020 have clearly different patterns.\n",
    "- This is because those exceptions in the future are filed beforehand.\n",
    "- We will be careful when using the data in 2019 and 2020 during our analysis."
   ]
  },
  {
   "cell_type": "markdown",
   "metadata": {
    "slideshow": {
     "slide_type": "slide"
    }
   },
   "source": [
    "<img src=\"img/ts_3_week.jpg\" align=middle width=\"1000\" height=\"800\">"
   ]
  },
  {
   "cell_type": "markdown",
   "metadata": {
    "slideshow": {
     "slide_type": "notes"
    }
   },
   "source": [
    "Summary on time series:\n",
    "\n",
    "- We will use time series as a base pattern to predict the number of exceptions and exception hours for each day in a future period, for example one month.\n",
    "- The time series will also provide a general trend of the future period."
   ]
  },
  {
   "cell_type": "markdown",
   "metadata": {
    "slideshow": {
     "slide_type": "slide"
    }
   },
   "source": [
    "## Linear Regression"
   ]
  },
  {
   "cell_type": "markdown",
   "metadata": {
    "slideshow": {
     "slide_type": "notes"
    }
   },
   "source": [
    "- Our goal is to use the past data, for example exception records for one year, to make predictions for operational exceptions (one month ahead).\n",
    "- Variables in the records can be used as predictors."
   ]
  },
  {
   "cell_type": "markdown",
   "metadata": {
    "slideshow": {
     "slide_type": "slide"
    }
   },
   "source": [
    "## Neural Network"
   ]
  },
  {
   "cell_type": "markdown",
   "metadata": {
    "slideshow": {
     "slide_type": "slide"
    }
   },
   "source": [
    "# Timeline\n",
    "\n",
    "\n",
    "| Time Period | Milestone |\n",
    "|-----------------|-------------|\n",
    "| Week 1 | Finalize the proposal report to send to our mentor and partner |\n",
    "| Week 2 | Data wrangling and feature selection (and more EDA) |\n",
    "| Weeks 3 - 4 | Explore different approaches to fit the models |\n",
    "| Week 5 | Build algorithms, testing, adjusting |\n",
    "| Week 6 | Improve the dashboard, wrapping up |\n",
    "| Week 7 | Presentations and reports |"
   ]
  },
  {
   "cell_type": "markdown",
   "metadata": {
    "slideshow": {
     "slide_type": "slide"
    }
   },
   "source": [
    "# Thank you!"
   ]
  }
 ],
 "metadata": {
  "celltoolbar": "Slideshow",
  "kernelspec": {
   "display_name": "R",
   "language": "R",
   "name": "ir"
  },
  "language_info": {
   "codemirror_mode": "r",
   "file_extension": ".r",
   "mimetype": "text/x-r-source",
   "name": "R",
   "pygments_lexer": "r",
   "version": "3.5.1"
  }
 },
 "nbformat": 4,
 "nbformat_minor": 2
}
