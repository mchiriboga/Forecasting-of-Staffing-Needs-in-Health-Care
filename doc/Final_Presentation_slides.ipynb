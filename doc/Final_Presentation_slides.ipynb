{
 "cells": [
  {
   "cell_type": "markdown",
   "metadata": {
    "slideshow": {
     "slide_type": "slide"
    }
   },
   "source": [
    "# Forecasting of Staffing Needs"
   ]
  },
  {
   "cell_type": "markdown",
   "metadata": {
    "slideshow": {
     "slide_type": "fragment"
    }
   },
   "source": [
    "### Team Members:\n",
    "- Marcelle Chiriboga\n",
    "- Davy Guo\n",
    "- Patrick Tung\n",
    "- Iris Yang"
   ]
  },
  {
   "cell_type": "markdown",
   "metadata": {
    "slideshow": {
     "slide_type": "slide"
    }
   },
   "source": [
    "## Agenda\n",
    "- Introduction\n",
    "- The Analysis\n",
    "    - Predicted Number of Exceptions\n",
    "    - Predicted Number of Urgent Exception Groups\n",
    "    - Exceptions Classification\n",
    "- The Dashboard"
   ]
  },
  {
   "cell_type": "markdown",
   "metadata": {
    "slideshow": {
     "slide_type": "slide"
    }
   },
   "source": [
    "# Introduction"
   ]
  },
  {
   "cell_type": "markdown",
   "metadata": {
    "slideshow": {
     "slide_type": "slide"
    }
   },
   "source": [
    "## The Partner - Providence Health Care\n",
    "\n",
    "- Providence Health Care (PHC) is a non-profit organization.\n",
    "- Almost 9,000 people working at their 16 facilities - 6,000 staff, 1,000 medical staff/physicians, 200 researchers, 1,600 volunteers.\n",
    "- PHC is the provincial centre for the care of six groups of people with often-intensive health needs.\n",
    "\n",
    "<div align=\"center\"><img src=\"img/phc_logo.png\"></div>"
   ]
  },
  {
   "cell_type": "markdown",
   "metadata": {
    "slideshow": {
     "slide_type": "slide"
    }
   },
   "source": [
    "## The Problem\n",
    "\n",
    "For most positions in the healthcare business, any staff absences must always be filled in by another staff.\n",
    "\n",
    "The purpose of this project is to help the People Analytics and Innovation Team from Providence Health Care (PHC) to predict the short-term staff needs in order to prepare for unexpected potential costs and staff shortages.\n",
    "The predictions are based on the historical records of scheduled exceptions, i.e. staff absences due to unexpected or previously arranged reasons such as vacation, sickness, maternity leave, etc.\n"
   ]
  },
  {
   "cell_type": "markdown",
   "metadata": {
    "slideshow": {
     "slide_type": "fragment"
    }
   },
   "source": [
    "<div align=\"center\"><img src=\"img/phc_strategy.png\"></div>"
   ]
  },
  {
   "cell_type": "markdown",
   "metadata": {
    "slideshow": {
     "slide_type": "slide"
    }
   },
   "source": [
    "## Objective\n",
    "\n",
    "The purpose of this project consisted of predict the short-term staff needs in order give to PHC some insight for unexpected potential costs and staff shortages.\n",
    "- forecasting staffing needs in healthcare on a weekly basis, providing insight on how many back up staff PHC needs to have a full staff;\n",
    "- forecasting how many exceptions would be overtime; and\n",
    "- exceptions classification"
   ]
  },
  {
   "cell_type": "markdown",
   "metadata": {
    "slideshow": {
     "slide_type": "slide"
    }
   },
   "source": [
    "# Exception Count Prediction\n",
    "\n",
    "Forecasting the number of exceptions for Providence Health Care"
   ]
  },
  {
   "cell_type": "markdown",
   "metadata": {
    "slideshow": {
     "slide_type": "slide"
    }
   },
   "source": [
    "## Methods for Exception Count Prediction"
   ]
  },
  {
   "cell_type": "markdown",
   "metadata": {
    "slideshow": {
     "slide_type": "subslide"
    }
   },
   "source": [
    "* Data\n",
    "    * Training: 2013~2016\n",
    "    * Validation: 2017\n",
    "    * Testing: 2018\n",
    "* Data Wrangling\n",
    "    * Split data by SITE, JOB_FAMILY, and SUB_PROGRAM\n",
    "    * e.g. St Paul's Hospital, Registered Nurse - DC1, Emergency\n",
    "* Fit time series model for each “combination”\n",
    "* Predict the number of exceptions for the combinations\n",
    "* Adjusted models based on Mean Absolute Error\n",
    "* Output a .csv file containing the forecasts"
   ]
  },
  {
   "cell_type": "markdown",
   "metadata": {
    "slideshow": {
     "slide_type": "slide"
    }
   },
   "source": [
    "## Product/Interface"
   ]
  },
  {
   "cell_type": "markdown",
   "metadata": {
    "slideshow": {
     "slide_type": "subslide"
    }
   },
   "source": [
    "![](img/exception_gui.png)"
   ]
  },
  {
   "cell_type": "markdown",
   "metadata": {
    "slideshow": {
     "slide_type": "slide"
    }
   },
   "source": [
    "## Output file"
   ]
  },
  {
   "cell_type": "markdown",
   "metadata": {
    "slideshow": {
     "slide_type": "subslide"
    }
   },
   "source": [
    "* .csv file containing all the predictions (on a weekly basis)\n",
    "\n",
    "![](img/example_output.png)"
   ]
  },
  {
   "cell_type": "markdown",
   "metadata": {
    "slideshow": {
     "slide_type": "slide"
    }
   },
   "source": [
    "## Difficulties\n",
    "\n",
    "* Certain combinations of data had very little exceptions\n",
    "    * Little to no pattern\n",
    "    * Predictions are not meaningful"
   ]
  },
  {
   "cell_type": "markdown",
   "metadata": {
    "slideshow": {
     "slide_type": "subslide"
    }
   },
   "source": [
    "* e.g. SVH Langara, Registered Nurse - DC1, ALDER\n",
    "![](img/SVHLangara-DC1-ALDER.png)"
   ]
  },
  {
   "cell_type": "markdown",
   "metadata": {
    "slideshow": {
     "slide_type": "slide"
    }
   },
   "source": [
    "## Solution\n",
    "\n",
    "* Fit meaningful data using a threshold\n",
    "    * Must have 300 exceptions within the past 4 years"
   ]
  },
  {
   "cell_type": "markdown",
   "metadata": {
    "slideshow": {
     "slide_type": "subslide"
    }
   },
   "source": [
    "* e.g. St Paul's Hospital, Registered Nurse - DC1, EMERG\n",
    "![](img/SPH-DC1-EMERGSPH.png)"
   ]
  },
  {
   "cell_type": "markdown",
   "metadata": {
    "slideshow": {
     "slide_type": "slide"
    }
   },
   "source": [
    "# Urgent Exception Prediction\n",
    "\n",
    "Predicting the number of urgent exceptions"
   ]
  },
  {
   "cell_type": "markdown",
   "metadata": {
    "slideshow": {
     "slide_type": "slide"
    }
   },
   "source": [
    "## Urgent Exception\n",
    "\n",
    "- Exceptions backfilled by **Overtime** and **Relief Not Found**\n",
    "- Overtime: high cost that need to minimize\n",
    "- Relief Not Found: need to avoid"
   ]
  },
  {
   "cell_type": "markdown",
   "metadata": {
    "slideshow": {
     "slide_type": "slide"
    }
   },
   "source": [
    "## Motivation\n",
    "\n",
    "- Give a insight so HR can arrange on-call and other backfills"
   ]
  },
  {
   "cell_type": "markdown",
   "metadata": {
    "slideshow": {
     "slide_type": "slide"
    }
   },
   "source": [
    "## Method\n",
    "\n",
    "- Linear Regression"
   ]
  },
  {
   "cell_type": "markdown",
   "metadata": {
    "slideshow": {
     "slide_type": "slide"
    }
   },
   "source": [
    "## Data\n",
    "\n",
    "- Dates: Until 2018, excluding 2014\n",
    "- Job Family: DC1000, DC2A00, DC2B00\n",
    "- Earning Category: Overtime & Relief Not Found"
   ]
  },
  {
   "cell_type": "markdown",
   "metadata": {
    "slideshow": {
     "slide_type": "slide"
    }
   },
   "source": [
    "## Variables\n",
    "\n",
    "- Day of week, day of month\n",
    "- Week of year, month of year\n",
    "- Productive hours"
   ]
  },
  {
   "cell_type": "markdown",
   "metadata": {
    "slideshow": {
     "slide_type": "slide"
    }
   },
   "source": [
    "## Input file\n",
    "\n",
    "- Exception Hours for past years\n",
    "- Productive Hours for past years\n",
    "- Productive Hours for the period you want to predict"
   ]
  },
  {
   "cell_type": "markdown",
   "metadata": {
    "slideshow": {
     "slide_type": "slide"
    }
   },
   "source": [
    "## Output file\n",
    "\n",
    "- `.csv` file with dates, job family, predicted count\n",
    "\n",
    "<img src=\"../imgs/urgent_2.png\" align=middle>"
   ]
  },
  {
   "cell_type": "markdown",
   "metadata": {
    "slideshow": {
     "slide_type": "slide"
    }
   },
   "source": [
    "## Difficulties\n",
    "\n",
    "- Low correlation to the predictors\n",
    "- Randomness in daily basis"
   ]
  },
  {
   "cell_type": "markdown",
   "metadata": {
    "slideshow": {
     "slide_type": "slide"
    }
   },
   "source": [
    "# Exception Label Prediction\n",
    "\n",
    "Forecasting the label of exceptions for Providence Health Care"
   ]
  },
  {
   "cell_type": "markdown",
   "metadata": {
    "slideshow": {
     "slide_type": "slide"
    }
   },
   "source": [
    "## Methods for Exception Label Prediction\n",
    "\n",
    "* Classification: \n",
    "    * Random Forest"
   ]
  },
  {
   "cell_type": "markdown",
   "metadata": {
    "slideshow": {
     "slide_type": "slide"
    }
   },
   "source": [
    "## Data Wrangling\n",
    "\n",
    "#### * Target Group: \n",
    "    * Nurse (LABOR_AGREEMENT: NURS)\n",
    "\n",
    "#### * Training Set: \n",
    "    * 2013 ~ 2018\n",
    "\n",
    "#### * Test Set: \n",
    "    * 2018\n",
    "\n",
    "#### * Site: \n",
    "\n",
    "    * St Paul's Hospital, Mt St Joseph, etc 6 sites in total suggested by partner"
   ]
  },
  {
   "cell_type": "markdown",
   "metadata": {
    "slideshow": {
     "slide_type": "slide"
    }
   },
   "source": [
    "#### Label Grouping\n",
    "* Original EARNING_CATEGORY has 12 values which is too much for prediction\n",
    "\n",
    "\n",
    "* 3 label is more reasonable for prediction:\n",
    "\n",
    "\n",
    "    * Straight Time: Regular Relief Utilized, Casual at Straight-Time, etc. \n",
    "    * Overtime and Beyond: Overtime, Insufficient Notice, etc.\n",
    "    * Relief Not Needed: Relief Not Needed."
   ]
  },
  {
   "cell_type": "markdown",
   "metadata": {
    "slideshow": {
     "slide_type": "slide"
    }
   },
   "source": [
    "## Model Training\n",
    "\n",
    "#### * Natural Prediction Model:\n",
    "    \n",
    "    * Predicting 3 labels, assuming some exceptions doesn’t require reliefs.\n",
    "\n",
    "#### * Conservative Prediction Model\n",
    "\n",
    "    * Predicting 2 labels, assuming every exceptions require reliefs."
   ]
  },
  {
   "cell_type": "markdown",
   "metadata": {
    "slideshow": {
     "slide_type": "slide"
    }
   },
   "source": [
    "### Feature Selection\n",
    "\n",
    "    \"EXCEPTION_HOURS\" - How long the exception will be\n",
    "    \"EXCEPTION_CREATION_TO_SHIFTSTART_MINUTES\" - The gap between submission time and shift start time\n",
    "    \"SITE\" - location\n",
    "    \"PROGRAM\" - \n",
    "    \"SUB_PROGRAM\" - \n",
    "    \"EXCEPTION_GROUP\" - The reason for exception\n",
    "    \"MONTH\" - natural month\n",
    "    \"DEPARTMENT\" - \n",
    "    \"NOTICE\" - Staff reponse time\n",
    "    \"SHIFT\" -  Which shift is the exception"
   ]
  },
  {
   "cell_type": "markdown",
   "metadata": {
    "slideshow": {
     "slide_type": "slide"
    }
   },
   "source": [
    "## Prediction Result Analysis\n",
    "<img src=\"../imgs/rf_1.png\" align=middle>"
   ]
  },
  {
   "cell_type": "markdown",
   "metadata": {
    "slideshow": {
     "slide_type": "slide"
    }
   },
   "source": [
    "### Difficulites\n",
    "#### Imblanced Data\n",
    "<img src=\"../imgs/rf_2.png\" align=middle>\n",
    "\n",
    "### Solution\n",
    "    `classweight = \"balanced\"`"
   ]
  },
  {
   "cell_type": "markdown",
   "metadata": {
    "slideshow": {
     "slide_type": "slide"
    }
   },
   "source": [
    "#### Prediction result after adjustment\n",
    "<img src=\"../imgs/rf_3.png\" align=middle>"
   ]
  },
  {
   "cell_type": "markdown",
   "metadata": {
    "slideshow": {
     "slide_type": "slide"
    }
   },
   "source": [
    "### Data Output\n",
    "    \n",
    "    * One dataframe with the prediction result and suggestion\n",
    "<img src=\"../imgs/rf_4.png\" align=middle>"
   ]
  },
  {
   "cell_type": "markdown",
   "metadata": {
    "slideshow": {
     "slide_type": "slide"
    }
   },
   "source": [
    "#### Remaining Chanllenge"
   ]
  },
  {
   "cell_type": "code",
   "execution_count": null,
   "metadata": {},
   "outputs": [],
   "source": []
  }
 ],
 "metadata": {
  "celltoolbar": "Slideshow",
  "kernelspec": {
   "display_name": "Python 3",
   "language": "python",
   "name": "python3"
  },
  "language_info": {
   "codemirror_mode": {
    "name": "ipython",
    "version": 3
   },
   "file_extension": ".py",
   "mimetype": "text/x-python",
   "name": "python",
   "nbconvert_exporter": "python",
   "pygments_lexer": "ipython3",
   "version": "3.6.8"
  }
 },
 "nbformat": 4,
 "nbformat_minor": 2
}
