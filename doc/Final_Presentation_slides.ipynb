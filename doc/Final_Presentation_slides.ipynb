{
 "cells": [
  {
   "cell_type": "markdown",
   "metadata": {
    "slideshow": {
     "slide_type": "slide"
    }
   },
   "source": [
    "# Forecasting of Staffing Needs"
   ]
  },
  {
   "cell_type": "code",
   "execution_count": null,
   "metadata": {},
   "outputs": [],
   "source": []
  },
  {
   "cell_type": "markdown",
   "metadata": {
    "slideshow": {
     "slide_type": "fragment"
    }
   },
   "source": [
    "### Team Members:\n",
    "- Iris Yang\n",
    "- Marcelle Chiriboga\n",
    "- Patrick Tung\n",
    "- Weifeng (Davy) Guo"
   ]
  },
  {
   "cell_type": "markdown",
   "metadata": {
    "slideshow": {
     "slide_type": "slide"
    }
   },
   "source": [
    "## Agenda\n",
    "- Introduction\n",
    "- The Analysis\n",
    "    - Predicted Number of Exceptions\n",
    "    - Predicted Number of Urgent Exception Groups\n",
    "    - Exceptions Classification\n",
    "- The Dashboard"
   ]
  },
  {
   "cell_type": "markdown",
   "metadata": {
    "slideshow": {
     "slide_type": "slide"
    }
   },
   "source": [
    "# Introduction"
   ]
  },
  {
   "cell_type": "markdown",
   "metadata": {
    "slideshow": {
     "slide_type": "slide"
    }
   },
   "source": [
    "## The Partner - Providence Health Care\n",
    "\n",
    "- Providence Health Care (PHC) is a non-profit organization.\n",
    "- Almost 9,000 people working at their 16 facilities - 6,000 staff, 1,000 medical staff/physicians, 200 researchers, 1,600 volunteers.\n",
    "- PHC is the provincial centre for the care of six groups of people with often-intensive health needs.\n",
    "\n",
    "<div align=\"center\"><img src=\"img/phc_logo.png\"></div>"
   ]
  },
  {
   "cell_type": "markdown",
   "metadata": {
    "slideshow": {
     "slide_type": "slide"
    }
   },
   "source": [
    "## The Problem\n",
    "\n",
    "- In the healthcare business, staff absences must always be backfilled. \n",
    "- These absences, expected or not, are called **exceptions**.\n",
    "- One way to minimize their impact is to predict future exceptions based on historical data."
   ]
  },
  {
   "cell_type": "markdown",
   "metadata": {
    "slideshow": {
     "slide_type": "slide"
    }
   },
   "source": [
    "<div align=\"center\"><img src=\"img/phc_strategy.png\" width=\"1000\"></div>"
   ]
  },
  {
   "cell_type": "markdown",
   "metadata": {
    "slideshow": {
     "slide_type": "slide"
    }
   },
   "source": [
    "## Objective\n",
    "\n",
    "The purpose of this project was to predict the short-term staff needs in order to provide PHC some insight into unexpected potential costs and staff shortages.\n",
    "\n",
    "Specifically we focused on building models for:\n",
    "\n",
    "- Forecasting staffing needs on a weekly basis, allowing PHC to estimate how many back up staff are needed;\n",
    "- Forecasting how many exceptions will fall under the urgent exception groups (i.e. overtime and relief not found);\n",
    "- Forecasting possible outcome for each exceptions submitted."
   ]
  },
  {
   "cell_type": "markdown",
   "metadata": {
    "slideshow": {
     "slide_type": "slide"
    }
   },
   "source": [
    "# The Analysis"
   ]
  },
  {
   "cell_type": "markdown",
   "metadata": {
    "slideshow": {
     "slide_type": "-"
    }
   },
   "source": [
    "We performed an EDA to indentify the facilities, labour agreement and job families we should focus on.\n",
    "\n",
    "\n",
    "<div align=\"center\"><img src=\"img/exceptions_per_facilites.png\" width = \"600\"></div>"
   ]
  },
  {
   "cell_type": "markdown",
   "metadata": {
    "slideshow": {
     "slide_type": "slide"
    }
   },
   "source": [
    "<div align=\"center\"><img src=\"img/exceptions_by_labor_agreement.png\" width = \"1200\"></div>"
   ]
  },
  {
   "cell_type": "markdown",
   "metadata": {
    "slideshow": {
     "slide_type": "slide"
    }
   },
   "source": [
    "<div align=\"center\"><img src=\"img/nurs_job_families_pareto.png\" width = \"1200\"></div>"
   ]
  },
  {
   "cell_type": "markdown",
   "metadata": {
    "slideshow": {
     "slide_type": "skip"
    }
   },
   "source": [
    "<div align=\"center\"><img src=\"img/nurs_pareto_table.png\" width = \"1200\"></div>"
   ]
  },
  {
   "cell_type": "markdown",
   "metadata": {
    "slideshow": {
     "slide_type": "slide"
    }
   },
   "source": [
    "## Exception Count Prediction\n",
    "\n",
    "Forecasting the number of exceptions for Providence Health Care"
   ]
  },
  {
   "cell_type": "markdown",
   "metadata": {
    "slideshow": {
     "slide_type": "slide"
    }
   },
   "source": [
    "### Method"
   ]
  },
  {
   "cell_type": "markdown",
   "metadata": {
    "slideshow": {
     "slide_type": "subslide"
    }
   },
   "source": [
    "- Data\n",
    "    * Training: 2013 - 2016\n",
    "    * Validation: 2017\n",
    "    * Testing: 2018\n",
    "- Data Wrangling\n",
    "    * Split data by SITE, JOB_FAMILY, and SUB_PROGRAM\n",
    "    * e.g. St Paul's Hospital, Registered Nurse - DC1, Emergency\n",
    "- Fit time series model for each “combination”\n",
    "    * Facebook Prophet\n",
    "- Predict the number of exceptions for the combinations\n",
    "- Adjusted models based on Mean Absolute Error\n",
    "- Output a .csv file containing the forecasts"
   ]
  },
  {
   "cell_type": "markdown",
   "metadata": {
    "slideshow": {
     "slide_type": "slide"
    }
   },
   "source": [
    "### Product/Interface"
   ]
  },
  {
   "cell_type": "markdown",
   "metadata": {
    "slideshow": {
     "slide_type": "subslide"
    }
   },
   "source": [
    "<div align=\"center\"><img src=\"img/exception_gui.png\" width = \"1200\"></div>"
   ]
  },
  {
   "cell_type": "markdown",
   "metadata": {
    "slideshow": {
     "slide_type": "slide"
    }
   },
   "source": [
    "### Output file"
   ]
  },
  {
   "cell_type": "markdown",
   "metadata": {
    "slideshow": {
     "slide_type": "subslide"
    }
   },
   "source": [
    "* `.csv` file containing all the predictions (on a weekly basis)\n",
    "\n",
    "<div align=\"center\"><img src=\"img/example_output.png\" width = \"1000\"></div>"
   ]
  },
  {
   "cell_type": "markdown",
   "metadata": {
    "slideshow": {
     "slide_type": "slide"
    }
   },
   "source": [
    "### Difficulties\n",
    "\n",
    "* Certain combinations of data had very little exceptions\n",
    "    * Little to no pattern\n",
    "    * Predictions are not meaningful"
   ]
  },
  {
   "cell_type": "markdown",
   "metadata": {
    "slideshow": {
     "slide_type": "subslide"
    }
   },
   "source": [
    "* e.g. Youville Residence, Registered Nurse - DC2B - Parkview\n",
    "\n",
    "<div align=\"center\"><img src=\"img/Youville-DC2B-Parkview.png\"></div>\n"
   ]
  },
  {
   "cell_type": "markdown",
   "metadata": {
    "slideshow": {
     "slide_type": "slide"
    }
   },
   "source": [
    "### Solution\n",
    "\n",
    "* Fit meaningful data using a threshold\n",
    "    * Must have 300 exceptions within the past 4 years"
   ]
  },
  {
   "cell_type": "markdown",
   "metadata": {
    "slideshow": {
     "slide_type": "subslide"
    }
   },
   "source": [
    "* e.g. St Paul's Hospital, Registered Nurse - DC1, EMERG\n",
    "    * MAE: 55.22\n",
    "\n",
    "<div align=\"center\"><img src=\"img/SPH-DC1-EMERGSPH.png\"></div>"
   ]
  },
  {
   "cell_type": "markdown",
   "metadata": {
    "slideshow": {
     "slide_type": "slide"
    }
   },
   "source": [
    "## Urgent Exception Prediction\n",
    "\n",
    "Predicting the number of urgent exceptions"
   ]
  },
  {
   "cell_type": "markdown",
   "metadata": {
    "slideshow": {
     "slide_type": "slide"
    }
   },
   "source": [
    "<div align=\"center\"><img src=\"img/phc_strategy.png\" width=\"700\"></div>"
   ]
  },
  {
   "cell_type": "markdown",
   "metadata": {
    "slideshow": {
     "slide_type": "slide"
    }
   },
   "source": [
    "## Urgent Exception\n",
    "\n",
    "- Exceptions backfilled by **Overtime** and **Relief Not Found**\n",
    "    - Overtime: high cost that need to minimize\n",
    "    - Relief Not Found: need to avoid\n",
    "- Give a insight so HR can arrange on-call and other backfills"
   ]
  },
  {
   "cell_type": "markdown",
   "metadata": {
    "slideshow": {
     "slide_type": "slide"
    }
   },
   "source": [
    "### Method\n",
    "\n",
    "- Linear Regression"
   ]
  },
  {
   "cell_type": "markdown",
   "metadata": {
    "slideshow": {
     "slide_type": "slide"
    }
   },
   "source": [
    "### Data\n",
    "\n",
    "- Dates: Until 2018, excluding 2014\n",
    "- Job Family: DC1000, DC2A00, DC2B00\n",
    "- Earning Category: Overtime & Relief Not Found"
   ]
  },
  {
   "cell_type": "markdown",
   "metadata": {
    "slideshow": {
     "slide_type": "slide"
    }
   },
   "source": [
    "### Difficulties\n",
    "\n",
    "- Low correlation\n",
    "- Randomness in daily basis"
   ]
  },
  {
   "cell_type": "markdown",
   "metadata": {
    "slideshow": {
     "slide_type": "slide"
    }
   },
   "source": [
    "### Variables\n",
    "\n",
    "- Dates (One Hot Encoding)\n",
    "    - Day of week, day of month, week of year, month of year\n",
    "- Productive hours"
   ]
  },
  {
   "cell_type": "markdown",
   "metadata": {
    "slideshow": {
     "slide_type": "slide"
    }
   },
   "source": [
    "### Input file\n",
    "\n",
    "- Exception Hours for past years\n",
    "- Productive Hours for past years\n",
    "- Productive Hours for the period you want to predict (estimation)"
   ]
  },
  {
   "cell_type": "markdown",
   "metadata": {
    "slideshow": {
     "slide_type": "slide"
    }
   },
   "source": [
    "### Output file\n",
    "\n",
    "- `.csv` file with dates, job family, predicted count\n",
    "\n",
    "<div align=\"center\"><img src=\"img/urgent_3.png\" width = 400></div>"
   ]
  },
  {
   "cell_type": "markdown",
   "metadata": {
    "slideshow": {
     "slide_type": "slide"
    }
   },
   "source": [
    "<div align=\"center\"><img src=\"img/urgent_1.png\" width = 1000></div>"
   ]
  },
  {
   "cell_type": "markdown",
   "metadata": {
    "slideshow": {
     "slide_type": "slide"
    }
   },
   "source": [
    "## Exception Classification\n",
    "\n",
    "Forecasting possible outcome for each exception submitted"
   ]
  },
  {
   "cell_type": "markdown",
   "metadata": {
    "slideshow": {
     "slide_type": "slide"
    }
   },
   "source": [
    "### Label Grouping\n",
    "\n",
    "- EARNING_CATEGORY is the final outcome for an exception\n",
    "\n",
    "\n",
    "- Original EARNING_CATEGORY has 12 values which is too much for classification\n",
    "\n",
    "\n",
    "- 3 labels is more reasonable for classifation:\n",
    "\n",
    "    - Straight Time: Regular Relief Utilized, Casual at Straight-Time, PT Over FTE,  Miscellaneous Straight-Time, PT Employee Moved - Straight-Time, FT Employee Moved - Straight-Time\n",
    "    \n",
    "    - Overtime and Beyond: Overtime, Agency, Insufficient Notice, On-Call, Relief Not Found\n",
    "    \n",
    "    - Relief Not Needed: Relief Not Needed."
   ]
  },
  {
   "cell_type": "markdown",
   "metadata": {
    "slideshow": {
     "slide_type": "slide"
    }
   },
   "source": [
    "### Feature Selection\n",
    "\n",
    "- Using `EXCEPTION_HOURS`, `EXCEPTION_CREATION_TO_SHIFTSTART_MINUTES`,`NOTICE` as accuracy baseline.\n",
    "\n",
    "\n",
    "- Using forward selection, adding `SITE`, `PROGRAM`, `SUB_PROGRAM`, `EXCEPTION_GROUP`, `MONTH`, `DEPARTMENT`, `SHIFT`."
   ]
  },
  {
   "cell_type": "markdown",
   "metadata": {
    "slideshow": {
     "slide_type": "slide"
    }
   },
   "source": [
    "### Prediction Result Analysis\n",
    "\n",
    "\n",
    "\n",
    "<div align=\"center\"><img src=\"img/rf_1.png\" width = \"800\"></div>"
   ]
  },
  {
   "cell_type": "markdown",
   "metadata": {
    "slideshow": {
     "slide_type": "slide"
    }
   },
   "source": [
    "### Difficulties\n",
    "\n",
    "- Imblanced Data\n",
    "\n",
    "<div align=\"center\"><img src=\"img/rf_2.png\" width = \"800\"></div>"
   ]
  },
  {
   "cell_type": "markdown",
   "metadata": {
    "slideshow": {
     "slide_type": "slide"
    }
   },
   "source": [
    "### Prediction Accuracies After Adjustments\n",
    "\n",
    "<div align=\"center\"><img src=\"img/classification_accuracies.png\" width = \"800\"></div>"
   ]
  },
  {
   "cell_type": "markdown",
   "metadata": {
    "slideshow": {
     "slide_type": "slide"
    }
   },
   "source": [
    "### Output file\n",
    "    \n",
    "- .csv file with the prediction result\n",
    "    \n",
    "<div align=\"center\"><img src=\"img/rf_4.png\" width = \"600\"></div>"
   ]
  },
  {
   "cell_type": "markdown",
   "metadata": {
    "slideshow": {
     "slide_type": "slide"
    }
   },
   "source": [
    "# Dashboard"
   ]
  },
  {
   "cell_type": "markdown",
   "metadata": {
    "slideshow": {
     "slide_type": "slide"
    }
   },
   "source": [
    "## Exception Predictions\n",
    "\n",
    "<div align=\"center\"><img src=\"img/dashboard_predictions.png\" width = \"600\"></div>"
   ]
  },
  {
   "cell_type": "markdown",
   "metadata": {
    "slideshow": {
     "slide_type": "slide"
    }
   },
   "source": [
    "## Exceptions Classification\n",
    "\n",
    "<div align=\"center\"><img src=\"img/dashboard_classification.png\" width = \"600\"></div>"
   ]
  },
  {
   "cell_type": "markdown",
   "metadata": {
    "slideshow": {
     "slide_type": "slide"
    }
   },
   "source": [
    "## Comparison of Productive and Exception Hours\n",
    "\n",
    "<div align=\"center\"><img src=\"img/dashboard_history.png\" width = \"600\"></div>"
   ]
  },
  {
   "cell_type": "markdown",
   "metadata": {
    "slideshow": {
     "slide_type": "slide"
    }
   },
   "source": [
    "# Summary\n",
    "\n",
    "- Data product contains the three models\n",
    "- Results from the models can be shown in tableau dashboard\n",
    "- HR can choose models based on the data they get\n",
    "- Provide insights from the predictions to help decision making"
   ]
  },
  {
   "cell_type": "markdown",
   "metadata": {
    "slideshow": {
     "slide_type": "slide"
    }
   },
   "source": [
    "# Thank you!"
   ]
  }
 ],
 "metadata": {
  "celltoolbar": "Slideshow",
  "kernelspec": {
   "display_name": "Python 3",
   "language": "python",
   "name": "python3"
  },
  "language_info": {
   "codemirror_mode": {
    "name": "ipython",
    "version": 3
   },
   "file_extension": ".py",
   "mimetype": "text/x-python",
   "name": "python",
   "nbconvert_exporter": "python",
   "pygments_lexer": "ipython3",
   "version": "3.6.8"
  }
 },
 "nbformat": 4,
 "nbformat_minor": 2
}
