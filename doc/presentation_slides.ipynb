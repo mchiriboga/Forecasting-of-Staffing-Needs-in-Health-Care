{
 "cells": [
  {
   "cell_type": "markdown",
   "metadata": {
    "slideshow": {
     "slide_type": "slide"
    }
   },
   "source": [
    "# Exception Count Prediction\n",
    "\n",
    "Forecasting the number of exceptions for Providence Health Care"
   ]
  },
  {
   "cell_type": "markdown",
   "metadata": {
    "slideshow": {
     "slide_type": "slide"
    }
   },
   "source": [
    "## Methods for Exception Count Prediction"
   ]
  },
  {
   "cell_type": "markdown",
   "metadata": {
    "slideshow": {
     "slide_type": "subslide"
    }
   },
   "source": [
    "* Data\n",
    "    * Training: 2013~2016\n",
    "    * Validation: 2017\n",
    "    * Testing: 2018\n",
    "* Data Wrangling\n",
    "    * Split data by SITE, JOB_FAMILY, and SUB_PROGRAM\n",
    "    * e.g. St Paul's Hospital, Registered Nurse - DC1, Emergency\n",
    "* Fit time series model for each “combination”\n",
    "* Predict the number of exceptions for the combinations\n",
    "* Adjusted models based on Mean Absolute Error\n",
    "* Output a .csv file containing the forecasts"
   ]
  },
  {
   "cell_type": "markdown",
   "metadata": {
    "slideshow": {
     "slide_type": "slide"
    }
   },
   "source": [
    "## Product/Interface"
   ]
  },
  {
   "cell_type": "markdown",
   "metadata": {
    "slideshow": {
     "slide_type": "subslide"
    }
   },
   "source": [
    "![](img/exception_gui.png)"
   ]
  },
  {
   "cell_type": "markdown",
   "metadata": {
    "slideshow": {
     "slide_type": "slide"
    }
   },
   "source": [
    "## Output file"
   ]
  },
  {
   "cell_type": "markdown",
   "metadata": {
    "slideshow": {
     "slide_type": "subslide"
    }
   },
   "source": [
    "* .csv file containing all the predictions (on a weekly basis)\n",
    "\n",
    "![](img/example_output.png)"
   ]
  },
  {
   "cell_type": "markdown",
   "metadata": {
    "slideshow": {
     "slide_type": "slide"
    }
   },
   "source": [
    "## Difficulties\n",
    "\n",
    "* Certain combinations of data had very little exceptions\n",
    "    * Little to no pattern\n",
    "    * Predictions are not meaningful"
   ]
  },
  {
   "cell_type": "markdown",
   "metadata": {
    "slideshow": {
     "slide_type": "subslide"
    }
   },
   "source": [
    "* e.g. SVH Langara, Registered Nurse - DC1, ALDER\n",
    "![](img/SVHLangara-DC1-ALDER.png)"
   ]
  },
  {
   "cell_type": "markdown",
   "metadata": {
    "slideshow": {
     "slide_type": "slide"
    }
   },
   "source": [
    "## Solution\n",
    "\n",
    "* Fit meaningful data using a threshold\n",
    "    * Must have 300 exceptions within the past 4 years"
   ]
  },
  {
   "cell_type": "markdown",
   "metadata": {
    "slideshow": {
     "slide_type": "subslide"
    }
   },
   "source": [
    "* e.g. St Paul's Hospital, Registered Nurse - DC1, EMERG\n",
    "![](img/SPH-DC1-EMERGSPH.png)"
   ]
  }
 ],
 "metadata": {
  "celltoolbar": "Slideshow",
  "kernelspec": {
   "display_name": "Python 3",
   "language": "python",
   "name": "python3"
  },
  "language_info": {
   "codemirror_mode": {
    "name": "ipython",
    "version": 3
   },
   "file_extension": ".py",
   "mimetype": "text/x-python",
   "name": "python",
   "nbconvert_exporter": "python",
   "pygments_lexer": "ipython3",
   "version": "3.7.3"
  }
 },
 "nbformat": 4,
 "nbformat_minor": 2
}
