{
 "cells": [
  {
   "cell_type": "markdown",
   "metadata": {},
   "source": [
    "# Prophet Python Baseline"
   ]
  },
  {
   "cell_type": "code",
   "execution_count": 1,
   "metadata": {},
   "outputs": [],
   "source": [
    "# load packages\n",
    "import pandas as pd\n",
    "import numpy as np\n",
    "from fbprophet import Prophet\n",
    "\n",
    "import warnings\n",
    "\n",
    "import seaborn as sns\n",
    "import matplotlib.pyplot as plt\n",
    "%matplotlib inline"
   ]
  },
  {
   "cell_type": "code",
   "execution_count": 3,
   "metadata": {},
   "outputs": [],
   "source": [
    "# custom MAPE\n",
    "def mape(y_true, y_pred): \n",
    "    y_true, y_pred = np.array(y_true), np.array(y_pred)\n",
    "    return np.nanmean(np.abs((y_true - y_pred) / y_true)) * 100\n",
    "\n",
    "# custom MAE\n",
    "def mae(y_true, y_pred): \n",
    "    y_true, y_pred = np.array(y_true), np.array(y_pred)\n",
    "    return np.nanmean(np.abs((y_true - y_pred)))"
   ]
  },
  {
   "cell_type": "code",
   "execution_count": 4,
   "metadata": {},
   "outputs": [
    {
     "name": "stderr",
     "output_type": "stream",
     "text": [
      "C:\\Users\\tung_\\Anaconda3\\lib\\site-packages\\IPython\\core\\interactiveshell.py:2785: DtypeWarning: Columns (35) have mixed types. Specify dtype option on import or set low_memory=False.\n",
      "  interactivity=interactivity, compiler=compiler, result=result)\n"
     ]
    }
   ],
   "source": [
    "# read data\n",
    "raw_data = pd.read_csv(\"../data/train.csv\", parse_dates=[\"SHIFT_DATE\"])"
   ]
  },
  {
   "cell_type": "code",
   "execution_count": 5,
   "metadata": {},
   "outputs": [],
   "source": [
    "# split data to train and val\n",
    "train = raw_data[(raw_data[\"SHIFT_DATE\"]>\"2012-12-31\") & (raw_data[\"SHIFT_DATE\"]<\"2017-01-01\")]\n",
    "val = raw_data[(raw_data[\"SHIFT_DATE\"]>\"2016-12-31\") & (raw_data[\"SHIFT_DATE\"]<\"2018-01-01\")]"
   ]
  },
  {
   "cell_type": "markdown",
   "metadata": {},
   "source": [
    "# Method 1"
   ]
  },
  {
   "cell_type": "code",
   "execution_count": 6,
   "metadata": {},
   "outputs": [],
   "source": [
    "# using only a portion of the sites\n",
    "small_train = train[(train[\"SITE\"]==\"St Paul's Hospital\") | \n",
    "                    (train[\"SITE\"]==\"Mt St Joseph\") | \n",
    "                    (train[\"SITE\"]==\"Holy Family\") | \n",
    "                    (train[\"SITE\"]==\"SVH Langara\") | \n",
    "                    (train[\"SITE\"]==\"Brock Fahrni\") | \n",
    "                    (train[\"SITE\"]==\"Youville Residence\")]\n",
    "\n",
    "small_val = val[(val[\"SITE\"]==\"St Paul's Hospital\") | \n",
    "                (val[\"SITE\"]==\"Mt St Joseph\") | \n",
    "                (val[\"SITE\"]==\"Holy Family\") | \n",
    "                (val[\"SITE\"]==\"SVH Langara\") | \n",
    "                (val[\"SITE\"]==\"Brock Fahrni\") | \n",
    "                (val[\"SITE\"]==\"Youville Residence\")]"
   ]
  },
  {
   "cell_type": "code",
   "execution_count": 7,
   "metadata": {},
   "outputs": [],
   "source": [
    "# create training dataframes\n",
    "splitting_train = small_train.groupby([\"JOB_FAMILY_DESCRIPTION\", \"SITE\", \"SHIFT_DATE\"]).size().reset_index()\n",
    "splitting_train = splitting_train.rename({\"SHIFT_DATE\":\"ds\", 0:\"y\"}, axis=1)\n",
    "\n",
    "# create validation dataframes\n",
    "splitting_val = small_val.groupby([\"JOB_FAMILY_DESCRIPTION\", \"SITE\", \"SHIFT_DATE\"]).size().reset_index()\n",
    "splitting_val = splitting_val.rename({\"SHIFT_DATE\":\"ds\", 0:\"y\"}, axis=1)"
   ]
  },
  {
   "cell_type": "code",
   "execution_count": 8,
   "metadata": {},
   "outputs": [],
   "source": [
    "# create timeframe data for prediction\n",
    "timeframe = pd.DataFrame(pd.date_range(start='2017-01-01', end='2017-12-31', freq=\"D\")).rename({0:\"ds\"}, axis=1)"
   ]
  },
  {
   "cell_type": "code",
   "execution_count": 79,
   "metadata": {},
   "outputs": [],
   "source": [
    "def run_prophet(series, timeframe=timeframe):\n",
    "    \"\"\"\n",
    "    Runs the Prophet \n",
    "    \n",
    "    Key arguments:\n",
    "    --------------\n",
    "    series -- (DataFrame) time series data\n",
    "    timeframe -- (DataFrame) a DataFrame with one column \n",
    "                 consisting of predicted dates\n",
    "\n",
    "    Returns: \n",
    "    --------------\n",
    "    Returns the forecast of the predictions \n",
    "\n",
    "    \"\"\"\n",
    "    model = Prophet(yearly_seasonality=True, weekly_seasonality=True, daily_seasonality=False, \n",
    "                    # changepoint_prior_scale=0.001,\n",
    "                    mcmc_samples=300,\n",
    "                    interval_width=0.95)\n",
    "    model.fit(series)\n",
    "    forecast = model.predict(timeframe)\n",
    "    return forecast"
   ]
  },
  {
   "cell_type": "code",
   "execution_count": 80,
   "metadata": {},
   "outputs": [],
   "source": [
    "small_sites = small_train[\"SITE\"].unique()\n",
    "# small_las = small_train[\"JOB_FAMILY_DESCRIPTION\"].unique()\n",
    "small_jfs = [\"Registered Nurse-DC1\", \"Registered Nurse-DC2A Sup\", \"Registered Nurse-DC2B\"]"
   ]
  },
  {
   "cell_type": "code",
   "execution_count": null,
   "metadata": {},
   "outputs": [],
   "source": [
    "warnings.simplefilter('ignore')\n",
    "# create and store predictions and true results\n",
    "split_data = {}\n",
    "pred_results = {}\n",
    "true_results = {}\n",
    "for i in small_sites:\n",
    "    for j in small_jfs:\n",
    "        temp_data_train = splitting_train[(splitting_train[\"SITE\"]==i) & (splitting_train[\"JOB_FAMILY_DESCRIPTION\"]==j)].reset_index()\n",
    "        temp_data_val = splitting_val[(splitting_val[\"SITE\"]==i) & (splitting_val[\"JOB_FAMILY_DESCRIPTION\"]==j)].reset_index(drop=True)\n",
    "        split_data[(i, j)] = temp_data_train\n",
    "        true_results[(i, j)] = temp_data_val\n",
    "        try:\n",
    "            pred_results[(i, j)] = run_prophet(temp_data_train)\n",
    "            print(\"Fitting -\", i, j, \": Done\")\n",
    "        except ValueError:\n",
    "            pred_results[(i, j)] = None\n",
    "            print(\"Fitting -\", i, j, \": Failed\")"
   ]
  },
  {
   "cell_type": "code",
   "execution_count": 66,
   "metadata": {},
   "outputs": [],
   "source": [
    "# combine predictions and true results\n",
    "combined = {}\n",
    "for i in true_results:\n",
    "    if pred_results[i] is not None:\n",
    "        combined[i] = pd.merge(true_results[i], \n",
    "                               pred_results[i], \n",
    "                               on=\"ds\", \n",
    "                               how=\"outer\")[[\"ds\", \"y\", \"yhat\", \"yhat_lower\", \"yhat_upper\"]]"
   ]
  },
  {
   "cell_type": "code",
   "execution_count": 67,
   "metadata": {},
   "outputs": [],
   "source": [
    "# convert to week and calculating errors weekly\n",
    "weekly = {}\n",
    "for i in combined:\n",
    "    # create week column\n",
    "    combined[i][\"week\"] = combined[i][\"ds\"].dt.week\n",
    "    combined[i][\"ds\"] = combined[i][\"ds\"]-pd.DateOffset(weekday=0, weeks=1)\n",
    "    \n",
    "    # store y, yhat, yhat_lower, yhat_upper\n",
    "    weekly_y = combined[i].groupby(\"ds\").y.sum().reset_index()\n",
    "    weekly_yhat = combined[i].groupby(\"ds\").yhat.sum().reset_index()\n",
    "    weekly_yhat_lower = combined[i].groupby(\"ds\").yhat_lower.sum().reset_index()\n",
    "    weekly_yhat_upper = combined[i].groupby(\"ds\").yhat_upper.sum().reset_index()\n",
    "    \n",
    "    # merge weekly results\n",
    "    weekly[i] = pd.concat([weekly_y, weekly_yhat[\"yhat\"], \n",
    "                           weekly_yhat_lower[\"yhat_lower\"], \n",
    "                           weekly_yhat_upper[\"yhat_upper\"]], \n",
    "                          axis=1)\n",
    "\n",
    "    # create columns \"year\", \"site\", \"job_family\"\n",
    "    length = weekly[i].shape[0]\n",
    "    weekly[i][\"week\"] = weekly[i][\"ds\"].dt.weekofyear\n",
    "    weekly[i][\"site\"] = np.repeat(i[0], length)\n",
    "    weekly[i][\"job_family\"] = np.repeat(i[1], length)"
   ]
  },
  {
   "cell_type": "code",
   "execution_count": 68,
   "metadata": {},
   "outputs": [
    {
     "name": "stdout",
     "output_type": "stream",
     "text": [
      "(\"St Paul's Hospital\", 'Registered Nurse-DC1'): MAPE: 5.0693155235527945, MAE: 98.165632569631\n",
      "(\"St Paul's Hospital\", 'Registered Nurse-DC2A Sup'): MAPE: 29.71238565588476, MAE: 34.53677202628862\n",
      "(\"St Paul's Hospital\", 'Registered Nurse-DC2B'): MAPE: 27.26308912470625, MAE: 21.096911031769018\n",
      "('Mt St Joseph', 'Registered Nurse-DC1'): MAPE: 13.221484497222963, MAE: 38.467065575904044\n",
      "('Mt St Joseph', 'Registered Nurse-DC2A Sup'): MAPE: 52.84567048388428, MAE: 9.144475718704808\n",
      "('Mt St Joseph', 'Registered Nurse-DC2B'): MAPE: inf, MAE: 6.841862495230874\n",
      "('Youville Residence', 'Registered Nurse-DC1'): MAPE: 21.65193903968359, MAE: 8.150414617416974\n",
      "('Youville Residence', 'Registered Nurse-DC2A Sup'): MAPE: inf, MAE: 5.101160144225855\n",
      "('Youville Residence', 'Registered Nurse-DC2B'): MAPE: inf, MAE: 6.545537289867795\n",
      "('SVH Langara', 'Registered Nurse-DC1'): MAPE: 29.904035223296894, MAE: 12.583775669446558\n",
      "('SVH Langara', 'Registered Nurse-DC2A Sup'): MAPE: inf, MAE: 5.684422017574303\n",
      "('SVH Langara', 'Registered Nurse-DC2B'): MAPE: inf, MAE: 6.954100645364692\n",
      "('Brock Fahrni', 'Registered Nurse-DC1'): MAPE: 27.39940069038977, MAE: 6.781309550044216\n",
      "('Brock Fahrni', 'Registered Nurse-DC2A Sup'): MAPE: inf, MAE: 5.271326976736845\n",
      "('Brock Fahrni', 'Registered Nurse-DC2B'): MAPE: inf, MAE: 5.450553248815935\n",
      "('Holy Family', 'Registered Nurse-DC1'): MAPE: 24.28057939220746, MAE: 15.321706914925544\n",
      "('Holy Family', 'Registered Nurse-DC2A Sup'): MAPE: inf, MAE: 3.2108666730724624\n",
      "('Holy Family', 'Registered Nurse-DC2B'): MAPE: inf, MAE: 5.451899730540231\n"
     ]
    }
   ],
   "source": [
    "for i in weekly:\n",
    "    print(\"{}: MAPE: {}, MAE: {}\".format(i, mape(weekly[i][\"y\"], weekly[i][\"yhat\"]), \n",
    "                                         mae(weekly[i][\"y\"], weekly[i][\"yhat\"])))"
   ]
  },
  {
   "cell_type": "markdown",
   "metadata": {},
   "source": [
    "## Aggregated"
   ]
  },
  {
   "cell_type": "code",
   "execution_count": 69,
   "metadata": {},
   "outputs": [],
   "source": [
    "def aggregate_error(data, variable=None, method=\"mape\"):\n",
    "    \"\"\"\n",
    "    Given the combined data from our generated forecast and\n",
    "    returns the aggregated error\n",
    "    \n",
    "    Key arguments:\n",
    "    --------------\n",
    "    data -- (dict) dictionary of data that we want to use\n",
    "    variable -- (str) variable name\n",
    "    method -- (str) mape or mae\n",
    "\n",
    "    Returns: \n",
    "    --------------\n",
    "    The aggregated MAPE or MAE of the forecast\n",
    "\n",
    "    \"\"\"\n",
    "    test_pred = timeframe.copy()\n",
    "    test_true = timeframe.copy()\n",
    "    if variable is None:\n",
    "        for i in data:\n",
    "            test_pred = pd.merge(test_pred, data[i][[\"ds\", \"yhat\"]], on=\"ds\")\n",
    "            test_true = pd.merge(test_true, data[i][[\"ds\", \"y\"]], on=\"ds\")\n",
    "    else:\n",
    "        for i in data:\n",
    "            if variable in i:\n",
    "                test_pred = pd.merge(test_pred, data[i][[\"ds\", \"yhat\"]], on=\"ds\")\n",
    "                test_true = pd.merge(test_true, data[i][[\"ds\", \"y\"]], on=\"ds\")\n",
    "    sum_pred = test_pred.sum(axis=1)\n",
    "    sum_true = test_true.sum(axis=1)\n",
    "    if method == \"mape\":\n",
    "        return mape(sum_true, sum_pred)\n",
    "    if method == \"mae\":\n",
    "        return mae(sum_true, sum_pred)"
   ]
  },
  {
   "cell_type": "code",
   "execution_count": 70,
   "metadata": {},
   "outputs": [
    {
     "name": "stdout",
     "output_type": "stream",
     "text": [
      "St Paul's Hospital: MAPE: 4.369745614903153, MAE: 101.38481350332569\n",
      "Mt St Joseph: MAPE: 12.291001826662253, MAE: 45.534409564979676\n",
      "Youville Residence: MAPE: 34.76614458938122, MAE: 13.948997826050059\n",
      "SVH Langara: MAPE: 49.29357635214357, MAE: 23.51543289601668\n",
      "Brock Fahrni: MAPE: 40.96373161454362, MAE: 13.839266135934862\n",
      "Holy Family: MAPE: 27.25142624275297, MAE: 18.290876501539632\n"
     ]
    }
   ],
   "source": [
    "# errors for each site\n",
    "for i in small_sites:\n",
    "    print(\"{}: MAPE: {}, MAE: {}\".format(i, aggregate_error(weekly, i, \"mape\"), aggregate_error(weekly, i, \"mae\")))"
   ]
  },
  {
   "cell_type": "code",
   "execution_count": 71,
   "metadata": {},
   "outputs": [
    {
     "name": "stdout",
     "output_type": "stream",
     "text": [
      "Registered Nurse-DC1: MAPE: 4.387966150001365, MAE: 114.7907206401632\n",
      "Registered Nurse-DC2A Sup: MAPE: 37.02861576965646, MAE: 58.618303974537056\n",
      "Registered Nurse-DC2B: MAPE: 17.84960987275085, MAE: 19.510735739497136\n"
     ]
    }
   ],
   "source": [
    "# errors for each labor agreement\n",
    "for i in small_jfs:\n",
    "    print(\"{}: MAPE: {}, MAE: {}\".format(i, aggregate_error(weekly, i, \"mape\"), aggregate_error(weekly, i, \"mae\")))"
   ]
  },
  {
   "cell_type": "code",
   "execution_count": 72,
   "metadata": {},
   "outputs": [
    {
     "name": "stdout",
     "output_type": "stream",
     "text": [
      "Total MAPE: 4.554167673238677\n",
      "Total MAE: 129.03663090687937\n"
     ]
    }
   ],
   "source": [
    "# total MAPE and MAE \n",
    "print(\"Total MAPE: {}\\nTotal MAE: {}\".format(aggregate_error(weekly, method=\"mape\"), \n",
    "                                             aggregate_error(weekly, method=\"mae\")))"
   ]
  },
  {
   "cell_type": "code",
   "execution_count": 73,
   "metadata": {},
   "outputs": [
    {
     "name": "stdout",
     "output_type": "stream",
     "text": [
      "Aw, snap! We didn't get a username with your request.\n",
      "\n",
      "Don't have an account? https://plot.ly/api_signup\n",
      "\n",
      "Questions? accounts@plot.ly\n"
     ]
    },
    {
     "ename": "PlotlyError",
     "evalue": "Because you didn't supply a 'file_id' in the call, we're assuming you're trying to snag a figure from a url. You supplied the url, '', we expected it to start with 'https://plot.ly'.\nRun help on this function for more information.",
     "output_type": "error",
     "traceback": [
      "\u001b[1;31m---------------------------------------------------------------------------\u001b[0m",
      "\u001b[1;31mPlotlyError\u001b[0m                               Traceback (most recent call last)",
      "\u001b[1;32m<ipython-input-73-9eecc11b6f6b>\u001b[0m in \u001b[0;36m<module>\u001b[1;34m()\u001b[0m\n\u001b[0;32m     42\u001b[0m \u001b[0mdata\u001b[0m \u001b[1;33m=\u001b[0m \u001b[1;33m[\u001b[0m\u001b[0mlower_bound\u001b[0m\u001b[1;33m,\u001b[0m \u001b[0mupper_bound\u001b[0m\u001b[1;33m,\u001b[0m \u001b[0mtrace2\u001b[0m\u001b[1;33m,\u001b[0m \u001b[0mtrace1\u001b[0m\u001b[1;33m]\u001b[0m\u001b[1;33m\u001b[0m\u001b[0m\n\u001b[0;32m     43\u001b[0m \u001b[1;33m\u001b[0m\u001b[0m\n\u001b[1;32m---> 44\u001b[1;33m \u001b[0mpy\u001b[0m\u001b[1;33m.\u001b[0m\u001b[0miplot\u001b[0m\u001b[1;33m(\u001b[0m\u001b[0mdata\u001b[0m\u001b[1;33m,\u001b[0m \u001b[0mfilename\u001b[0m\u001b[1;33m=\u001b[0m\u001b[1;34m'sample_plot'\u001b[0m\u001b[1;33m)\u001b[0m\u001b[1;33m\u001b[0m\u001b[0m\n\u001b[0m",
      "\u001b[1;32m~\\Anaconda3\\lib\\site-packages\\chart_studio\\plotly\\plotly.py\u001b[0m in \u001b[0;36miplot\u001b[1;34m(figure_or_data, **plot_options)\u001b[0m\n\u001b[0;32m    185\u001b[0m         \u001b[0membed_options\u001b[0m\u001b[1;33m[\u001b[0m\u001b[1;34m'height'\u001b[0m\u001b[1;33m]\u001b[0m \u001b[1;33m=\u001b[0m \u001b[0mstr\u001b[0m\u001b[1;33m(\u001b[0m\u001b[0membed_options\u001b[0m\u001b[1;33m[\u001b[0m\u001b[1;34m'height'\u001b[0m\u001b[1;33m]\u001b[0m\u001b[1;33m)\u001b[0m \u001b[1;33m+\u001b[0m \u001b[1;34m'px'\u001b[0m\u001b[1;33m\u001b[0m\u001b[0m\n\u001b[0;32m    186\u001b[0m \u001b[1;33m\u001b[0m\u001b[0m\n\u001b[1;32m--> 187\u001b[1;33m     \u001b[1;32mreturn\u001b[0m \u001b[0mtools\u001b[0m\u001b[1;33m.\u001b[0m\u001b[0membed\u001b[0m\u001b[1;33m(\u001b[0m\u001b[0murl\u001b[0m\u001b[1;33m,\u001b[0m \u001b[1;33m**\u001b[0m\u001b[0membed_options\u001b[0m\u001b[1;33m)\u001b[0m\u001b[1;33m\u001b[0m\u001b[0m\n\u001b[0m\u001b[0;32m    188\u001b[0m \u001b[1;33m\u001b[0m\u001b[0m\n\u001b[0;32m    189\u001b[0m \u001b[1;33m\u001b[0m\u001b[0m\n",
      "\u001b[1;32m~\\Anaconda3\\lib\\site-packages\\chart_studio\\tools.py\u001b[0m in \u001b[0;36membed\u001b[1;34m(file_owner_or_url, file_id, width, height)\u001b[0m\n\u001b[0;32m    362\u001b[0m         \u001b[1;32melse\u001b[0m\u001b[1;33m:\u001b[0m\u001b[1;33m\u001b[0m\u001b[0m\n\u001b[0;32m    363\u001b[0m             \u001b[0murl\u001b[0m \u001b[1;33m=\u001b[0m \u001b[0mfile_owner_or_url\u001b[0m\u001b[1;33m\u001b[0m\u001b[0m\n\u001b[1;32m--> 364\u001b[1;33m         \u001b[1;32mreturn\u001b[0m \u001b[0mPlotlyDisplay\u001b[0m\u001b[1;33m(\u001b[0m\u001b[0murl\u001b[0m\u001b[1;33m,\u001b[0m \u001b[0mwidth\u001b[0m\u001b[1;33m,\u001b[0m \u001b[0mheight\u001b[0m\u001b[1;33m)\u001b[0m\u001b[1;33m\u001b[0m\u001b[0m\n\u001b[0m\u001b[0;32m    365\u001b[0m     \u001b[1;32melse\u001b[0m\u001b[1;33m:\u001b[0m\u001b[1;33m\u001b[0m\u001b[0m\n\u001b[0;32m    366\u001b[0m         if (get_config_defaults()['plotly_domain']\n",
      "\u001b[1;32m~\\Anaconda3\\lib\\site-packages\\chart_studio\\tools.py\u001b[0m in \u001b[0;36m__init__\u001b[1;34m(self, url, width, height)\u001b[0m\n\u001b[0;32m    393\u001b[0m         \u001b[1;32mdef\u001b[0m \u001b[0m__init__\u001b[0m\u001b[1;33m(\u001b[0m\u001b[0mself\u001b[0m\u001b[1;33m,\u001b[0m \u001b[0murl\u001b[0m\u001b[1;33m,\u001b[0m \u001b[0mwidth\u001b[0m\u001b[1;33m,\u001b[0m \u001b[0mheight\u001b[0m\u001b[1;33m)\u001b[0m\u001b[1;33m:\u001b[0m\u001b[1;33m\u001b[0m\u001b[0m\n\u001b[0;32m    394\u001b[0m             \u001b[0mself\u001b[0m\u001b[1;33m.\u001b[0m\u001b[0mresource\u001b[0m \u001b[1;33m=\u001b[0m \u001b[0murl\u001b[0m\u001b[1;33m\u001b[0m\u001b[0m\n\u001b[1;32m--> 395\u001b[1;33m             \u001b[0mself\u001b[0m\u001b[1;33m.\u001b[0m\u001b[0membed_code\u001b[0m \u001b[1;33m=\u001b[0m \u001b[0mget_embed\u001b[0m\u001b[1;33m(\u001b[0m\u001b[0murl\u001b[0m\u001b[1;33m,\u001b[0m \u001b[0mwidth\u001b[0m\u001b[1;33m=\u001b[0m\u001b[0mwidth\u001b[0m\u001b[1;33m,\u001b[0m \u001b[0mheight\u001b[0m\u001b[1;33m=\u001b[0m\u001b[0mheight\u001b[0m\u001b[1;33m)\u001b[0m\u001b[1;33m\u001b[0m\u001b[0m\n\u001b[0m\u001b[0;32m    396\u001b[0m             \u001b[0msuper\u001b[0m\u001b[1;33m(\u001b[0m\u001b[0mPlotlyDisplay\u001b[0m\u001b[1;33m,\u001b[0m \u001b[0mself\u001b[0m\u001b[1;33m)\u001b[0m\u001b[1;33m.\u001b[0m\u001b[0m__init__\u001b[0m\u001b[1;33m(\u001b[0m\u001b[0mdata\u001b[0m\u001b[1;33m=\u001b[0m\u001b[0mself\u001b[0m\u001b[1;33m.\u001b[0m\u001b[0membed_code\u001b[0m\u001b[1;33m)\u001b[0m\u001b[1;33m\u001b[0m\u001b[0m\n\u001b[0;32m    397\u001b[0m \u001b[1;33m\u001b[0m\u001b[0m\n",
      "\u001b[1;32m~\\Anaconda3\\lib\\site-packages\\chart_studio\\tools.py\u001b[0m in \u001b[0;36mget_embed\u001b[1;34m(file_owner_or_url, file_id, width, height)\u001b[0m\n\u001b[0;32m    267\u001b[0m                 \u001b[1;34m\"'{1}'.\"\u001b[0m\u001b[1;33m\u001b[0m\u001b[0m\n\u001b[0;32m    268\u001b[0m                 \u001b[1;34m\"\\nRun help on this function for more information.\"\u001b[0m\u001b[1;33m\u001b[0m\u001b[0m\n\u001b[1;32m--> 269\u001b[1;33m                 \"\".format(url, plotly_rest_url))\n\u001b[0m\u001b[0;32m    270\u001b[0m         \u001b[0murlsplit\u001b[0m \u001b[1;33m=\u001b[0m \u001b[0msix\u001b[0m\u001b[1;33m.\u001b[0m\u001b[0mmoves\u001b[0m\u001b[1;33m.\u001b[0m\u001b[0murllib\u001b[0m\u001b[1;33m.\u001b[0m\u001b[0mparse\u001b[0m\u001b[1;33m.\u001b[0m\u001b[0murlparse\u001b[0m\u001b[1;33m(\u001b[0m\u001b[0murl\u001b[0m\u001b[1;33m)\u001b[0m\u001b[1;33m\u001b[0m\u001b[0m\n\u001b[0;32m    271\u001b[0m         \u001b[0mfile_owner\u001b[0m \u001b[1;33m=\u001b[0m \u001b[0murlsplit\u001b[0m\u001b[1;33m.\u001b[0m\u001b[0mpath\u001b[0m\u001b[1;33m.\u001b[0m\u001b[0msplit\u001b[0m\u001b[1;33m(\u001b[0m\u001b[1;34m'/'\u001b[0m\u001b[1;33m)\u001b[0m\u001b[1;33m[\u001b[0m\u001b[1;36m1\u001b[0m\u001b[1;33m]\u001b[0m\u001b[1;33m.\u001b[0m\u001b[0msplit\u001b[0m\u001b[1;33m(\u001b[0m\u001b[1;34m'~'\u001b[0m\u001b[1;33m)\u001b[0m\u001b[1;33m[\u001b[0m\u001b[1;36m1\u001b[0m\u001b[1;33m]\u001b[0m\u001b[1;33m\u001b[0m\u001b[0m\n",
      "\u001b[1;31mPlotlyError\u001b[0m: Because you didn't supply a 'file_id' in the call, we're assuming you're trying to snag a figure from a url. You supplied the url, '', we expected it to start with 'https://plot.ly'.\nRun help on this function for more information."
     ]
    }
   ],
   "source": [
    "import plotly.plotly as py\n",
    "import plotly.graph_objs as go\n",
    "\n",
    "x = plot_data[\"ds\"]\n",
    "y = plot_data[\"y\"]\n",
    "yhat = plot_data[\"yhat\"]\n",
    "yhat_lower = plot_data[\"yhat_lower\"]\n",
    "yhat_upper = plot_data[\"yhat_upper\"]\n",
    "\n",
    "upper_bound = go.Scatter(\n",
    "    name='Upper Bound',\n",
    "    x=x,\n",
    "    y=yhat_upper,\n",
    "    mode='lines',\n",
    "    line=dict(width=0.5, color=\"rgb(255, 255, 255)\"),\n",
    "    fillcolor='rgba(68, 68, 68, 0.1)',\n",
    "    fill='tonexty',\n",
    "    showlegend=False)\n",
    "\n",
    "trace1 = go.Scatter(\n",
    "    name='Actual',\n",
    "    x=x,\n",
    "    y=y,\n",
    "    mode='lines',\n",
    "    line=dict(color='rgb(31, 119, 180)'),)\n",
    "\n",
    "trace2 = go.Scatter(\n",
    "    name='Predictions',\n",
    "    x=x,\n",
    "    y=yhat,\n",
    "    mode='lines',\n",
    "    line=dict(color='rgb(246, 23, 26)'),)\n",
    "\n",
    "lower_bound = go.Scatter(\n",
    "    name='Lower Bound',\n",
    "    x=x,\n",
    "    y=yhat_lower,\n",
    "    mode='lines',\n",
    "    line=dict(width=0.5, color=\"rgb(255, 255, 255)\"),\n",
    "    showlegend=False)\n",
    "\n",
    "data = [lower_bound, upper_bound, trace2, trace1]\n",
    "\n",
    "py.iplot(data, filename='sample_plot')"
   ]
  },
  {
   "cell_type": "code",
   "execution_count": 75,
   "metadata": {},
   "outputs": [
    {
     "data": {
      "image/png": "[encoded data removed]",
      "text/plain": [
       "<Figure size 1080x504 with 1 Axes>"
      ]
     },
     "metadata": {},
     "output_type": "display_data"
    }
   ],
   "source": [
    "test = weekly[('Brock Fahrni', 'Registered Nurse-DC2B')]\n",
    "test[\"ds\"] = pd.to_datetime(test[\"ds\"])\n",
    "ax = plt.subplots(figsize=(15,7))\n",
    "ax = sns.lineplot(data=test, x=\"ds\", y=\"y\", label=\"Actual\")\n",
    "ax = sns.lineplot(data=test, x=\"ds\", y=\"yhat\", label=\"Forecast\")\n",
    "ax = sns.lineplot(data=test, x=\"ds\", y=\"yhat_lower\", label=\"Lower Bound\")\n",
    "ax = sns.lineplot(data=test, x=\"ds\", y=\"yhat_upper\", label=\"Upper Bound\")\n",
    "# ax.fill_between(data=test, x=\"ds\", y1='yhat_lower', y2='yhat_upper', color=\"orange\", alpha=0.2)\n",
    "# ax.fill_between(data=plot_data, x=\"ds\", y1=\"yhat_lower\", y2=\"yhat_upper\", facecolor='blue', alpha=0.5)"
   ]
  },
  {
   "cell_type": "code",
   "execution_count": null,
   "metadata": {},
   "outputs": [],
   "source": [
    "mcmc_samples=300"
   ]
  },
  {
   "cell_type": "markdown",
   "metadata": {},
   "source": [
    "# Run below code to export tables"
   ]
  },
  {
   "cell_type": "code",
   "execution_count": 145,
   "metadata": {},
   "outputs": [],
   "source": [
    "# # export to \"data/predictions/\" directory\n",
    "# for i, j in weekly:\n",
    "#     weekly[(i,j)].to_csv(\"../data/predictions/{}_{}.csv\".format(i,j))"
   ]
  },
  {
   "cell_type": "code",
   "execution_count": 174,
   "metadata": {},
   "outputs": [],
   "source": [
    "# Create all_data\n",
    "total_data = pd.DataFrame()\n",
    "for i in weekly:\n",
    "    total_data = pd.concat([total_data, weekly[i]], axis=0)"
   ]
  },
  {
   "cell_type": "code",
   "execution_count": 177,
   "metadata": {},
   "outputs": [],
   "source": [
    "# export total data\n",
    "total_data.to_csv(\"../data/predictions/predictions.csv\")"
   ]
  },
  {
   "cell_type": "code",
   "execution_count": null,
   "metadata": {},
   "outputs": [],
   "source": []
  },
  {
   "cell_type": "markdown",
   "metadata": {},
   "source": [
    "# Log"
   ]
  },
  {
   "cell_type": "code",
   "execution_count": 178,
   "metadata": {},
   "outputs": [],
   "source": [
    "# create training dataframes\n",
    "splitting_train = small_train.groupby([\"JOB_FAMILY_DESCRIPTION\", \"SITE\", \"SHIFT_DATE\"]).size().reset_index()\n",
    "splitting_train = splitting_train.rename({\"SHIFT_DATE\":\"ds\", 0:\"y\"}, axis=1)\n",
    "splitting_train[\"y\"] = np.log(splitting_train[\"y\"])\n",
    "\n",
    "# create validation dataframes\n",
    "splitting_val = small_val.groupby([\"JOB_FAMILY_DESCRIPTION\", \"SITE\", \"SHIFT_DATE\"]).size().reset_index()\n",
    "splitting_val = splitting_val.rename({\"SHIFT_DATE\":\"ds\", 0:\"y\"}, axis=1)\n",
    "splitting_val[\"y\"] = np.log(splitting_val[\"y\"])"
   ]
  },
  {
   "cell_type": "code",
   "execution_count": 180,
   "metadata": {},
   "outputs": [
    {
     "name": "stdout",
     "output_type": "stream",
     "text": [
      "Fitting - St Paul's Hospital Registered Nurse-DC1 : Done\n",
      "Fitting - St Paul's Hospital Registered Nurse-DC2A Sup : Done\n",
      "Fitting - St Paul's Hospital Registered Nurse-DC2B : Done\n",
      "Fitting - Mt St Joseph Registered Nurse-DC1 : Done\n",
      "Fitting - Mt St Joseph Registered Nurse-DC2A Sup : Done\n",
      "Fitting - Mt St Joseph Registered Nurse-DC2B : Done\n",
      "Fitting - Youville Residence Registered Nurse-DC1 : Done\n",
      "Fitting - Youville Residence Registered Nurse-DC2A Sup : Done\n",
      "Fitting - Youville Residence Registered Nurse-DC2B : Done\n",
      "Fitting - SVH Langara Registered Nurse-DC1 : Done\n",
      "Fitting - SVH Langara Registered Nurse-DC2A Sup : Done\n",
      "Fitting - SVH Langara Registered Nurse-DC2B : Done\n",
      "Fitting - Brock Fahrni Registered Nurse-DC1 : Done\n",
      "Fitting - Brock Fahrni Registered Nurse-DC2A Sup : Done\n",
      "Fitting - Brock Fahrni Registered Nurse-DC2B : Done\n",
      "Fitting - Holy Family Registered Nurse-DC1 : Done\n",
      "Fitting - Holy Family Registered Nurse-DC2A Sup : Done\n",
      "Fitting - Holy Family Registered Nurse-DC2B : Done\n"
     ]
    }
   ],
   "source": [
    "warnings.simplefilter('ignore')\n",
    "# create and store predictions and true results\n",
    "split_data = {}\n",
    "pred_results = {}\n",
    "true_results = {}\n",
    "for i in small_sites:\n",
    "    for j in small_jfs:\n",
    "        temp_data_train = splitting_train[(splitting_train[\"SITE\"]==i) & (splitting_train[\"JOB_FAMILY_DESCRIPTION\"]==j)].reset_index()\n",
    "        temp_data_val = splitting_val[(splitting_val[\"SITE\"]==i) & (splitting_val[\"JOB_FAMILY_DESCRIPTION\"]==j)].reset_index(drop=True)\n",
    "        split_data[(i, j)] = temp_data_train\n",
    "        true_results[(i, j)] = temp_data_val\n",
    "        try:\n",
    "            pred_results[(i, j)] = run_prophet(temp_data_train)\n",
    "            print(\"Fitting -\", i, j, \": Done\")\n",
    "        except ValueError:\n",
    "            pred_results[(i, j)] = None\n",
    "            print(\"Fitting -\", i, j, \": Failed\")"
   ]
  },
  {
   "cell_type": "code",
   "execution_count": 181,
   "metadata": {},
   "outputs": [],
   "source": [
    "# combine predictions and true results\n",
    "combined = {}\n",
    "for i in true_results:\n",
    "    if pred_results[i] is not None:\n",
    "        combined[i] = pd.merge(true_results[i], \n",
    "                               pred_results[i], \n",
    "                               on=\"ds\", \n",
    "                               how=\"outer\")[[\"ds\", \"y\", \"yhat\", \"yhat_lower\", \"yhat_upper\"]]\n",
    "        combined[i][\"y\"] = np.exp(combined[i][\"y\"])\n",
    "        combined[i][\"yhat\"] = np.exp(combined[i][\"yhat\"])\n",
    "        combined[i][\"yhat_lower\"] = np.exp(combined[i][\"yhat_lower\"])\n",
    "        combined[i][\"yhat_upper\"] = np.exp(combined[i][\"yhat_upper\"])"
   ]
  },
  {
   "cell_type": "code",
   "execution_count": 182,
   "metadata": {},
   "outputs": [],
   "source": [
    "# convert to week and calculating MAPE weekly\n",
    "weekly = {}\n",
    "for i in combined:\n",
    "    # create week column\n",
    "    combined[i][\"week\"] = combined[i][\"ds\"].dt.week\n",
    "    combined[i][\"ds\"] = combined[i][\"ds\"]-pd.DateOffset(weekday=0, weeks=1)\n",
    "    \n",
    "    # store y, yhat, yhat_lower, yhat_upper\n",
    "    weekly_y = combined[i].groupby(\"ds\").y.sum().reset_index()\n",
    "    weekly_yhat = combined[i].groupby(\"ds\").yhat.sum().reset_index()\n",
    "    weekly_yhat_lower = combined[i].groupby(\"ds\").yhat_lower.sum().reset_index()\n",
    "    weekly_yhat_upper = combined[i].groupby(\"ds\").yhat_upper.sum().reset_index()\n",
    "    \n",
    "    # merge weekly results\n",
    "    weekly[i] = pd.concat([weekly_y, weekly_yhat[\"yhat\"], \n",
    "                           weekly_yhat_lower[\"yhat_lower\"], \n",
    "                           weekly_yhat_upper[\"yhat_upper\"]], \n",
    "                          axis=1)\n",
    "\n",
    "    # create columns \"year\", \"site\", \"job_family\"\n",
    "    length = weekly[i].shape[0]\n",
    "    weekly[i][\"week\"] = weekly[i][\"ds\"].dt.weekofyear\n",
    "    weekly[i][\"site\"] = np.repeat(i[0], length)\n",
    "    weekly[i][\"job_family\"] = np.repeat(i[1], length)"
   ]
  },
  {
   "cell_type": "code",
   "execution_count": 183,
   "metadata": {},
   "outputs": [
    {
     "name": "stdout",
     "output_type": "stream",
     "text": [
      "(\"St Paul's Hospital\", 'Registered Nurse-DC1'): MAPE: 5.512551013684407, MAE: 109.55401795446514\n",
      "(\"St Paul's Hospital\", 'Registered Nurse-DC2A Sup'): MAPE: 27.943083630209824, MAE: 32.98984164252051\n",
      "(\"St Paul's Hospital\", 'Registered Nurse-DC2B'): MAPE: 21.218907905427276, MAE: 17.928620317606935\n",
      "('Mt St Joseph', 'Registered Nurse-DC1'): MAPE: 11.168577366579292, MAE: 33.777793235903815\n",
      "('Mt St Joseph', 'Registered Nurse-DC2A Sup'): MAPE: 40.4183882680099, MAE: 7.425298648910728\n",
      "('Mt St Joseph', 'Registered Nurse-DC2B'): MAPE: inf, MAE: 5.334679386204028\n",
      "('Youville Residence', 'Registered Nurse-DC1'): MAPE: 21.583042539151638, MAE: 9.54113737152036\n",
      "('Youville Residence', 'Registered Nurse-DC2A Sup'): MAPE: inf, MAE: 5.240745311231194\n",
      "('Youville Residence', 'Registered Nurse-DC2B'): MAPE: inf, MAE: 5.912485166037487\n",
      "('SVH Langara', 'Registered Nurse-DC1'): MAPE: 19.98612848733887, MAE: 10.231121216901155\n",
      "('SVH Langara', 'Registered Nurse-DC2A Sup'): MAPE: inf, MAE: 6.015164831737406\n",
      "('SVH Langara', 'Registered Nurse-DC2B'): MAPE: inf, MAE: 5.981159990344486\n",
      "('Brock Fahrni', 'Registered Nurse-DC1'): MAPE: 24.537815504818532, MAE: 7.056157989633289\n",
      "('Brock Fahrni', 'Registered Nurse-DC2A Sup'): MAPE: inf, MAE: 4.181374207796958\n",
      "('Brock Fahrni', 'Registered Nurse-DC2B'): MAPE: inf, MAE: 5.232630788099331\n",
      "('Holy Family', 'Registered Nurse-DC1'): MAPE: 21.042797397991414, MAE: 15.210578187177173\n",
      "('Holy Family', 'Registered Nurse-DC2A Sup'): MAPE: inf, MAE: 5.1362191393167524\n",
      "('Holy Family', 'Registered Nurse-DC2B'): MAPE: inf, MAE: 5.383199132194478\n"
     ]
    }
   ],
   "source": [
    "for i in weekly:\n",
    "    print(\"{}: MAPE: {}, MAE: {}\".format(i, mape(weekly[i][\"y\"], weekly[i][\"yhat\"]), \n",
    "                                         mae(weekly[i][\"y\"], weekly[i][\"yhat\"])))"
   ]
  },
  {
   "cell_type": "markdown",
   "metadata": {},
   "source": [
    "# Imagine I am trying to see the accuracy for Nurses (among all SITEs)"
   ]
  },
  {
   "cell_type": "code",
   "execution_count": 184,
   "metadata": {},
   "outputs": [
    {
     "name": "stdout",
     "output_type": "stream",
     "text": [
      "St Paul's Hospital: MAPE: 4.924758029725802, MAE: 114.72688240142189\n",
      "Mt St Joseph: MAPE: 9.859290451741284, MAE: 37.28136178073984\n",
      "Youville Residence: MAPE: 19.53535531361171, MAE: 8.352665963171658\n",
      "SVH Langara: MAPE: 26.219674570942665, MAE: 12.496797528626994\n",
      "Brock Fahrni: MAPE: 26.411613650029402, MAE: 9.354038135799522\n",
      "Holy Family: MAPE: 21.853833057653667, MAE: 15.670987196642471\n"
     ]
    }
   ],
   "source": [
    "# errors for each site\n",
    "for i in small_sites:\n",
    "    print(\"{}: MAPE: {}, MAE: {}\".format(i, aggregate_error(weekly, i, \"mape\"), aggregate_error(weekly, i, \"mae\")))"
   ]
  },
  {
   "cell_type": "code",
   "execution_count": 185,
   "metadata": {},
   "outputs": [
    {
     "name": "stdout",
     "output_type": "stream",
     "text": [
      "Registered Nurse-DC1: MAPE: 5.351934201932985, MAE: 142.8731383398502\n",
      "Registered Nurse-DC2A Sup: MAPE: 34.84778592619028, MAE: 55.358913953823894\n",
      "Registered Nurse-DC2B: MAPE: 18.98501861194816, MAE: 20.195307874522225\n"
     ]
    }
   ],
   "source": [
    "# errors for each job family\n",
    "for i in small_jfs:\n",
    "    print(\"{}: MAPE: {}, MAE: {}\".format(i, aggregate_error(weekly, i, \"mape\"), aggregate_error(weekly, i, \"mae\")))"
   ]
  },
  {
   "cell_type": "code",
   "execution_count": 186,
   "metadata": {},
   "outputs": [
    {
     "name": "stdout",
     "output_type": "stream",
     "text": [
      "Total MAPE: 4.6263107468339015\n",
      "Total MAE: 134.25149571047518\n"
     ]
    }
   ],
   "source": [
    "# total MAPE and MAE \n",
    "print(\"Total MAPE: {}\\nTotal MAE: {}\".format(aggregate_error(weekly, method=\"mape\"), \n",
    "                                             aggregate_error(weekly, method=\"mae\")))"
   ]
  },
  {
   "cell_type": "code",
   "execution_count": 188,
   "metadata": {},
   "outputs": [],
   "source": [
    "# Create all_data\n",
    "total_data_log = pd.DataFrame()\n",
    "for i in weekly:\n",
    "    total_data_log = pd.concat([total_data, weekly[i]], axis=0)"
   ]
  },
  {
   "cell_type": "code",
   "execution_count": 191,
   "metadata": {},
   "outputs": [],
   "source": [
    "total_data_log.to_csv(\"../data/predictions/predictions_log.csv\")"
   ]
  },
  {
   "cell_type": "code",
   "execution_count": null,
   "metadata": {},
   "outputs": [],
   "source": []
  }
 ],
 "metadata": {
  "kernelspec": {
   "display_name": "Python 3",
   "language": "python",
   "name": "python3"
  },
  "language_info": {
   "codemirror_mode": {
    "name": "ipython",
    "version": 3
   },
   "file_extension": ".py",
   "mimetype": "text/x-python",
   "name": "python",
   "nbconvert_exporter": "python",
   "pygments_lexer": "ipython3",
   "version": "3.6.5"
  }
 },
 "nbformat": 4,
 "nbformat_minor": 2
}
