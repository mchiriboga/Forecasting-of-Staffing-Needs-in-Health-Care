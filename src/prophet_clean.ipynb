{
 "cells": [
  {
   "cell_type": "markdown",
   "metadata": {},
   "source": [
    "# Prophet Python Baseline"
   ]
  },
  {
   "cell_type": "code",
   "execution_count": 1,
   "metadata": {},
   "outputs": [],
   "source": [
    "# load packages\n",
    "import pandas as pd\n",
    "import numpy as np\n",
    "from fbprophet import Prophet\n",
    "\n",
    "import warnings"
   ]
  },
  {
   "cell_type": "code",
   "execution_count": 2,
   "metadata": {},
   "outputs": [],
   "source": [
    "# custom MAPE\n",
    "def mape(y_true, y_pred): \n",
    "    y_true, y_pred = np.array(y_true), np.array(y_pred)\n",
    "    return np.nanmean(np.abs((y_true - y_pred) / y_true)) * 100\n",
    "\n",
    "# custom MAE\n",
    "def mae(y_true, y_pred): \n",
    "    y_true, y_pred = np.array(y_true), np.array(y_pred)\n",
    "    return np.nanmean(np.abs((y_true - y_pred)))"
   ]
  },
  {
   "cell_type": "code",
   "execution_count": 3,
   "metadata": {},
   "outputs": [
    {
     "name": "stderr",
     "output_type": "stream",
     "text": [
      "/Users/pokepoke4/anaconda3/lib/python3.7/site-packages/IPython/core/interactiveshell.py:3049: DtypeWarning: Columns (35) have mixed types. Specify dtype option on import or set low_memory=False.\n",
      "  interactivity=interactivity, compiler=compiler, result=result)\n"
     ]
    }
   ],
   "source": [
    "# read data\n",
    "raw_data = pd.read_csv(\"../data/train.csv\", parse_dates=[\"SHIFT_DATE\"])"
   ]
  },
  {
   "cell_type": "code",
   "execution_count": 4,
   "metadata": {},
   "outputs": [],
   "source": [
    "# split data to train and val\n",
    "train = raw_data[(raw_data[\"SHIFT_DATE\"]>\"2012-12-31\") & (raw_data[\"SHIFT_DATE\"]<\"2017-01-01\")]\n",
    "val = raw_data[(raw_data[\"SHIFT_DATE\"]>\"2016-12-31\") & (raw_data[\"SHIFT_DATE\"]<\"2018-01-01\")]"
   ]
  },
  {
   "cell_type": "markdown",
   "metadata": {},
   "source": [
    "# Method 1"
   ]
  },
  {
   "cell_type": "code",
   "execution_count": 5,
   "metadata": {},
   "outputs": [],
   "source": [
    "# using only a portion of the sites\n",
    "small_train = train[(train[\"SITE\"]==\"St Paul's Hospital\") | \n",
    "                    (train[\"SITE\"]==\"Mt St Joseph\") | \n",
    "                    (train[\"SITE\"]==\"Holy Family\") | \n",
    "                    (train[\"SITE\"]==\"SVH Langara\") | \n",
    "                    (train[\"SITE\"]==\"PCH Corporate\") | \n",
    "                    (train[\"SITE\"]==\"Brock Fahrni\") | \n",
    "                    (train[\"SITE\"]==\"Youville Residence\")]\n",
    "\n",
    "small_val = val[(val[\"SITE\"]==\"St Paul's Hospital\") | \n",
    "                (val[\"SITE\"]==\"Mt St Joseph\") | \n",
    "                (val[\"SITE\"]==\"Holy Family\") | \n",
    "                (val[\"SITE\"]==\"SVH Langara\") | \n",
    "                (val[\"SITE\"]==\"PCH Corporate\") | \n",
    "                (val[\"SITE\"]==\"Brock Fahrni\") | \n",
    "                (val[\"SITE\"]==\"Youville Residence\")]"
   ]
  },
  {
   "cell_type": "code",
   "execution_count": 6,
   "metadata": {},
   "outputs": [],
   "source": [
    "# create training dataframes\n",
    "splitting_train = small_train.groupby([\"LABOR_AGREEMENT\", \"SITE\", \"SHIFT_DATE\"]).size().reset_index()\n",
    "splitting_train = splitting_train.rename({\"SHIFT_DATE\":\"ds\", 0:\"y\"}, axis=1)\n",
    "\n",
    "# create validation dataframes\n",
    "splitting_val = small_val.groupby([\"LABOR_AGREEMENT\", \"SITE\", \"SHIFT_DATE\"]).size().reset_index()\n",
    "splitting_val = splitting_val.rename({\"SHIFT_DATE\":\"ds\", 0:\"y\"}, axis=1)"
   ]
  },
  {
   "cell_type": "code",
   "execution_count": 7,
   "metadata": {},
   "outputs": [],
   "source": [
    "# create timeframe data for prediction\n",
    "timeframe = pd.DataFrame(pd.date_range(start='2017-01-02', end='2017-12-31', freq=\"D\")).rename({0:\"ds\"}, axis=1)"
   ]
  },
  {
   "cell_type": "code",
   "execution_count": 30,
   "metadata": {},
   "outputs": [],
   "source": [
    "def run_prophet(series, timeframe=timeframe):\n",
    "    \"\"\"\n",
    "    Runs the Prophet \n",
    "    \n",
    "    Key arguments:\n",
    "    --------------\n",
    "    series -- (DataFrame) time series data\n",
    "    timeframe -- (DataFrame) a DataFrame with one column \n",
    "                 consisting of predicted dates\n",
    "\n",
    "    Returns: \n",
    "    --------------\n",
    "    Returns the forecast of the predictions \n",
    "\n",
    "    \"\"\"\n",
    "    model = Prophet(yearly_seasonality=True, weekly_seasonality=True, daily_seasonality=True, interval_width=0.95)\n",
    "    model.fit(series)\n",
    "    forecast = model.predict(timeframe)\n",
    "    return forecast"
   ]
  },
  {
   "cell_type": "code",
   "execution_count": 31,
   "metadata": {},
   "outputs": [],
   "source": [
    "# removing \"EXCL\" due to technical difficulties\n",
    "small_sites = small_train[\"SITE\"].unique()\n",
    "small_las = [\"NURS\", \"FAC\", \"COM\", \"PARMED\"]"
   ]
  },
  {
   "cell_type": "code",
   "execution_count": 32,
   "metadata": {},
   "outputs": [
    {
     "name": "stdout",
     "output_type": "stream",
     "text": [
      "Fitting - St Paul's Hospital NURS : Done\n",
      "Fitting - St Paul's Hospital FAC : Done\n",
      "Fitting - St Paul's Hospital COM : Done\n",
      "Fitting - St Paul's Hospital PARMED : Done\n",
      "Fitting - Mt St Joseph NURS : Done\n",
      "Fitting - Mt St Joseph FAC : Done\n",
      "Fitting - Mt St Joseph COM : Failed\n",
      "Fitting - Mt St Joseph PARMED : Done\n",
      "Fitting - Youville Residence NURS : Done\n",
      "Fitting - Youville Residence FAC : Done\n",
      "Fitting - Youville Residence COM : Failed\n",
      "Fitting - Youville Residence PARMED : Done\n",
      "Fitting - SVH Langara NURS : Done\n",
      "Fitting - SVH Langara FAC : Done\n",
      "Fitting - SVH Langara COM : Failed\n",
      "Fitting - SVH Langara PARMED : Done\n",
      "Fitting - Brock Fahrni NURS : Done\n",
      "Fitting - Brock Fahrni FAC : Done\n",
      "Fitting - Brock Fahrni COM : Failed\n",
      "Fitting - Brock Fahrni PARMED : Done\n",
      "Fitting - Holy Family NURS : Done\n",
      "Fitting - Holy Family FAC : Done\n",
      "Fitting - Holy Family COM : Failed\n",
      "Fitting - Holy Family PARMED : Done\n"
     ]
    }
   ],
   "source": [
    "warnings.simplefilter('ignore')\n",
    "# create and store predictions and true results\n",
    "split_data = {}\n",
    "pred_results = {}\n",
    "true_results = {}\n",
    "for i in small_sites:\n",
    "    for j in small_las:\n",
    "        temp_data_train = splitting_train[(splitting_train[\"SITE\"]==i) & (splitting_train[\"LABOR_AGREEMENT\"]==j)].reset_index()\n",
    "        temp_data_val = splitting_val[(splitting_val[\"SITE\"]==i) & (splitting_val[\"LABOR_AGREEMENT\"]==j)].reset_index(drop=True)\n",
    "        split_data[(i, j)] = temp_data_train\n",
    "        true_results[(i, j)] = temp_data_val\n",
    "        try:\n",
    "            pred_results[(i, j)] = run_prophet(temp_data_train)\n",
    "            print(\"Fitting -\", i, j, \": Done\")\n",
    "        except ValueError:\n",
    "            pred_results[(i, j)] = None\n",
    "            print(\"Fitting -\", i, j, \": Failed\")"
   ]
  },
  {
   "cell_type": "code",
   "execution_count": 33,
   "metadata": {},
   "outputs": [],
   "source": [
    "# combine predictions and true results\n",
    "combined = {}\n",
    "for i in true_results:\n",
    "    if pred_results[i] is not None:\n",
    "        combined[i] = pd.merge(true_results[i], \n",
    "                               pred_results[i], \n",
    "                               on=\"ds\", \n",
    "                               how=\"outer\")[[\"ds\", \"y\", \"yhat\", \"yhat_lower\", \"yhat_upper\"]]"
   ]
  },
  {
   "cell_type": "code",
   "execution_count": 40,
   "metadata": {},
   "outputs": [],
   "source": [
    "# convert to week and calculating MAPE weekly\n",
    "weekly = {}\n",
    "for i in combined:\n",
    "    # create week column\n",
    "    combined[i][\"week\"] = combined[i][\"ds\"].dt.week\n",
    "    combined[i][\"ds\"] = combined[i][\"ds\"]-pd.DateOffset(weekday=0, weeks=1)\n",
    "    \n",
    "    # store y, yhat, yhat_lower, yhat_upper\n",
    "    weekly_y = combined[i].groupby(\"ds\").y.sum().reset_index()\n",
    "    weekly_yhat = combined[i].groupby(\"ds\").yhat.sum().reset_index()\n",
    "    weekly_yhat_lower = combined[i].groupby(\"ds\").yhat_lower.sum().reset_index()\n",
    "    weekly_yhat_upper = combined[i].groupby(\"ds\").yhat_upper.sum().reset_index()\n",
    "    \n",
    "    # merge weekly results\n",
    "    weekly[i] = pd.concat([weekly_y, weekly_yhat[\"yhat\"], \n",
    "                           weekly_yhat_lower[\"yhat_lower\"], \n",
    "                           weekly_yhat_upper[\"yhat_upper\"]], \n",
    "                          axis=1)\n",
    "\n",
    "    # create columns \"year\", \"site\", \"labor_agreement\"\n",
    "    length = weekly[i].shape[0]\n",
    "    weekly[i][\"week\"] = weekly[i][\"ds\"].dt.weekofyear\n",
    "    weekly[i][\"site\"] = np.repeat(i[0], length)\n",
    "    weekly[i][\"labor_agreement\"] = np.repeat(i[1], length)"
   ]
  },
  {
   "cell_type": "code",
   "execution_count": 45,
   "metadata": {},
   "outputs": [
    {
     "name": "stdout",
     "output_type": "stream",
     "text": [
      "(\"St Paul's Hospital\", 'NURS'): MAPE: 5.13187234231843, MAE: 119.75969823001476\n",
      "(\"St Paul's Hospital\", 'FAC'): MAPE: 10.254556594186036, MAE: 117.0790062848016\n",
      "(\"St Paul's Hospital\", 'COM'): MAPE: 39.222951732366774, MAE: 14.93809752108859\n",
      "(\"St Paul's Hospital\", 'PARMED'): MAPE: 11.052259107599271, MAE: 44.96451153168646\n",
      "('Mt St Joseph', 'NURS'): MAPE: 13.053194405254873, MAE: 58.431500279719295\n",
      "('Mt St Joseph', 'FAC'): MAPE: 15.054558339159573, MAE: 49.91200027137991\n",
      "('Mt St Joseph', 'PARMED'): MAPE: 14.48338550910828, MAE: 10.388325881642873\n",
      "('Youville Residence', 'NURS'): MAPE: 17.567530652529374, MAE: 8.379256508190347\n",
      "('Youville Residence', 'FAC'): MAPE: 16.97423731263223, MAE: 19.93238138889477\n",
      "('Youville Residence', 'PARMED'): MAPE: 39.43236299263334, MAE: 3.7434734839725334\n",
      "('SVH Langara', 'NURS'): MAPE: 21.36100676426401, MAE: 10.805603206619939\n",
      "('SVH Langara', 'FAC'): MAPE: 9.000432633471856, MAE: 18.38255201911297\n",
      "('SVH Langara', 'PARMED'): MAPE: 56.077350619127046, MAE: 8.980749657434378\n",
      "('Brock Fahrni', 'NURS'): MAPE: 23.076409005588975, MAE: 8.219506907286545\n",
      "('Brock Fahrni', 'FAC'): MAPE: 13.527104384845309, MAE: 20.60102883336103\n",
      "('Brock Fahrni', 'PARMED'): MAPE: inf, MAE: 4.391680783892226\n",
      "('Holy Family', 'NURS'): MAPE: 15.633298290180289, MAE: 21.370877541592954\n",
      "('Holy Family', 'FAC'): MAPE: 10.59470359536649, MAE: 21.304039562276458\n",
      "('Holy Family', 'PARMED'): MAPE: inf, MAE: 19.315245734942796\n"
     ]
    }
   ],
   "source": [
    "for i in weekly:\n",
    "    print(\"{}: MAPE: {}, MAE: {}\".format(i, mape(weekly[i][\"y\"], weekly[i][\"yhat\"]), \n",
    "                                         mae(weekly[i][\"y\"], weekly[i][\"yhat\"])))"
   ]
  },
  {
   "cell_type": "markdown",
   "metadata": {},
   "source": [
    "# Imagine I am trying to see the accuracy for Nurses (among all SITEs)"
   ]
  },
  {
   "cell_type": "code",
   "execution_count": 35,
   "metadata": {},
   "outputs": [],
   "source": [
    "def aggregate_error(data, variable=None, method=\"mape\"):\n",
    "    \"\"\"\n",
    "    Given the combined data from our generated forecast and\n",
    "    returns the aggregated error\n",
    "    \n",
    "    Key arguments:\n",
    "    --------------\n",
    "    data -- (dict) dictionary of data that we want to use\n",
    "    variable -- (str) variable name\n",
    "    method -- (str) mape or mae\n",
    "\n",
    "    Returns: \n",
    "    --------------\n",
    "    The aggregated MAPE or MAE of the forecast\n",
    "\n",
    "    \"\"\"\n",
    "    test_pred = timeframe.copy()\n",
    "    test_true = timeframe.copy()\n",
    "    if variable is None:\n",
    "        for i in data:\n",
    "            test_pred = pd.merge(test_pred, data[i][[\"ds\", \"yhat\"]], on=\"ds\")\n",
    "            test_true = pd.merge(test_true, data[i][[\"ds\", \"y\"]], on=\"ds\")\n",
    "    else:\n",
    "        for i in data:\n",
    "            if variable in i:\n",
    "                test_pred = pd.merge(test_pred, data[i][[\"ds\", \"yhat\"]], on=\"ds\")\n",
    "                test_true = pd.merge(test_true, data[i][[\"ds\", \"y\"]], on=\"ds\")\n",
    "    sum_pred = test_pred.sum(axis=1)\n",
    "    sum_true = test_true.sum(axis=1)\n",
    "    if method == \"mape\":\n",
    "        return mape(sum_true, sum_pred)\n",
    "    if method == \"mae\":\n",
    "        return mae(sum_true, sum_pred)"
   ]
  },
  {
   "cell_type": "code",
   "execution_count": 36,
   "metadata": {},
   "outputs": [
    {
     "name": "stdout",
     "output_type": "stream",
     "text": [
      "St Paul's Hospital: MAPE: 4.663013231709867, MAE: 195.94164490391512\n",
      "Mt St Joseph: MAPE: 6.682619773634768, MAE: 58.139504490821615\n",
      "Youville Residence: MAPE: 14.530947593539794, MAE: 26.023987795065995\n",
      "SVH Langara: MAPE: 7.923143603827243, MAE: 23.87512539216665\n",
      "Brock Fahrni: MAPE: 11.372726751700462, MAE: 22.891853295023758\n",
      "Holy Family: MAPE: 8.575945383713869, MAE: 34.83378378012212\n"
     ]
    }
   ],
   "source": [
    "# errors for each site\n",
    "for i in small_sites:\n",
    "    print(\"{}: MAPE: {}, MAE: {}\".format(i, aggregate_error(weekly, i, \"mape\"), aggregate_error(weekly, i, \"mae\")))"
   ]
  },
  {
   "cell_type": "code",
   "execution_count": 37,
   "metadata": {},
   "outputs": [
    {
     "name": "stdout",
     "output_type": "stream",
     "text": [
      "NURS: MAPE: 4.807886123281073, MAE: 154.3454383321321\n",
      "FAC: MAPE: 8.357573969494043, MAE: 183.69014246771152\n",
      "COM: MAPE: 39.88636790110028, MAE: 15.219007631742683\n",
      "PARMED: MAPE: 8.932284375586285, MAE: 65.20331040171452\n"
     ]
    }
   ],
   "source": [
    "# errors for each labor agreement\n",
    "for i in small_las:\n",
    "    print(\"{}: MAPE: {}, MAE: {}\".format(i, aggregate_error(weekly, i, \"mape\"), aggregate_error(weekly, i, \"mae\")))"
   ]
  },
  {
   "cell_type": "code",
   "execution_count": 38,
   "metadata": {},
   "outputs": [
    {
     "name": "stdout",
     "output_type": "stream",
     "text": [
      "Total MAPE: 4.4169787273629515\n",
      "Total MAE: 270.7299296866275\n"
     ]
    }
   ],
   "source": [
    "# total MAPE and MAE \n",
    "print(\"Total MAPE: {}\\nTotal MAE: {}\".format(aggregate_error(weekly, method=\"mape\"), \n",
    "                                             aggregate_error(weekly, method=\"mae\")))"
   ]
  },
  {
   "cell_type": "markdown",
   "metadata": {},
   "source": [
    "# Run below code to export tables"
   ]
  },
  {
   "cell_type": "code",
   "execution_count": 39,
   "metadata": {},
   "outputs": [],
   "source": [
    "# export to \"data/predictions/\" directory\n",
    "for i, j in weekly:\n",
    "    weekly[(i,j)].to_csv(\"../data/predictions/{}_{}.csv\".format(i,j))"
   ]
  },
  {
   "cell_type": "code",
   "execution_count": null,
   "metadata": {},
   "outputs": [],
   "source": []
  }
 ],
 "metadata": {
  "kernelspec": {
   "display_name": "Python 3",
   "language": "python",
   "name": "python3"
  },
  "language_info": {
   "codemirror_mode": {
    "name": "ipython",
    "version": 3
   },
   "file_extension": ".py",
   "mimetype": "text/x-python",
   "name": "python",
   "nbconvert_exporter": "python",
   "pygments_lexer": "ipython3",
   "version": "3.7.2"
  }
 },
 "nbformat": 4,
 "nbformat_minor": 2
}
