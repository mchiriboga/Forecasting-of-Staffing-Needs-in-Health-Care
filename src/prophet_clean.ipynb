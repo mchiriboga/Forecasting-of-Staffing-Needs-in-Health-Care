{
 "cells": [
  {
   "cell_type": "markdown",
   "metadata": {},
   "source": [
    "# Prophet Python Baseline"
   ]
  },
  {
   "cell_type": "code",
   "execution_count": 1,
   "metadata": {},
   "outputs": [],
   "source": [
    "# load packages\n",
    "import pandas as pd\n",
    "import numpy as np\n",
    "from fbprophet import Prophet\n",
    "\n",
    "import warnings"
   ]
  },
  {
   "cell_type": "code",
   "execution_count": 158,
   "metadata": {},
   "outputs": [],
   "source": [
    "# custom MAPE\n",
    "def mape(y_true, y_pred): \n",
    "    y_true, y_pred = np.array(y_true), np.array(y_pred)\n",
    "    return np.nanmean(np.abs((y_true - y_pred) / y_true)) * 100\n",
    "\n",
    "# custom MAE\n",
    "def mae(y_true, y_pred): \n",
    "    y_true, y_pred = np.array(y_true), np.array(y_pred)\n",
    "    return np.nanmean(np.abs((y_true - y_pred)))"
   ]
  },
  {
   "cell_type": "code",
   "execution_count": 159,
   "metadata": {},
   "outputs": [],
   "source": [
    "# read data\n",
    "raw_data = pd.read_csv(\"../data/train.csv\", parse_dates=[\"SHIFT_DATE\"])"
   ]
  },
  {
   "cell_type": "code",
   "execution_count": 160,
   "metadata": {},
   "outputs": [],
   "source": [
    "# split data to train and val\n",
    "train = raw_data[(raw_data[\"SHIFT_DATE\"]>\"2012-12-31\") & (raw_data[\"SHIFT_DATE\"]<\"2017-01-01\")]\n",
    "val = raw_data[(raw_data[\"SHIFT_DATE\"]>\"2016-12-31\") & (raw_data[\"SHIFT_DATE\"]<\"2018-01-01\")]"
   ]
  },
  {
   "cell_type": "markdown",
   "metadata": {},
   "source": [
    "# Method 1"
   ]
  },
  {
   "cell_type": "code",
   "execution_count": 161,
   "metadata": {},
   "outputs": [],
   "source": [
    "# using only a portion of the sites\n",
    "small_train = train[(train[\"SITE\"]==\"St Paul's Hospital\") | \n",
    "                    (train[\"SITE\"]==\"Mt St Joseph\") | \n",
    "                    (train[\"SITE\"]==\"Holy Family\") | \n",
    "                    (train[\"SITE\"]==\"SVH Langara\") | \n",
    "                    (train[\"SITE\"]==\"Brock Fahrni\") | \n",
    "                    (train[\"SITE\"]==\"Youville Residence\")]\n",
    "\n",
    "small_val = val[(val[\"SITE\"]==\"St Paul's Hospital\") | \n",
    "                (val[\"SITE\"]==\"Mt St Joseph\") | \n",
    "                (val[\"SITE\"]==\"Holy Family\") | \n",
    "                (val[\"SITE\"]==\"SVH Langara\") | \n",
    "                (val[\"SITE\"]==\"Brock Fahrni\") | \n",
    "                (val[\"SITE\"]==\"Youville Residence\")]"
   ]
  },
  {
   "cell_type": "code",
   "execution_count": 162,
   "metadata": {},
   "outputs": [],
   "source": [
    "# create training dataframes\n",
    "splitting_train = small_train.groupby([\"JOB_FAMILY_DESCRIPTION\", \"SITE\", \"SHIFT_DATE\"]).size().reset_index()\n",
    "splitting_train = splitting_train.rename({\"SHIFT_DATE\":\"ds\", 0:\"y\"}, axis=1)\n",
    "\n",
    "# create validation dataframes\n",
    "splitting_val = small_val.groupby([\"JOB_FAMILY_DESCRIPTION\", \"SITE\", \"SHIFT_DATE\"]).size().reset_index()\n",
    "splitting_val = splitting_val.rename({\"SHIFT_DATE\":\"ds\", 0:\"y\"}, axis=1)"
   ]
  },
  {
   "cell_type": "code",
   "execution_count": 163,
   "metadata": {},
   "outputs": [],
   "source": [
    "# create timeframe data for prediction\n",
    "timeframe = pd.DataFrame(pd.date_range(start='2017-01-01', end='2017-12-31', freq=\"D\")).rename({0:\"ds\"}, axis=1)"
   ]
  },
  {
   "cell_type": "code",
   "execution_count": 164,
   "metadata": {},
   "outputs": [],
   "source": [
    "def run_prophet(series, timeframe=timeframe):\n",
    "    \"\"\"\n",
    "    Runs the Prophet \n",
    "    \n",
    "    Key arguments:\n",
    "    --------------\n",
    "    series -- (DataFrame) time series data\n",
    "    timeframe -- (DataFrame) a DataFrame with one column \n",
    "                 consisting of predicted dates\n",
    "\n",
    "    Returns: \n",
    "    --------------\n",
    "    Returns the forecast of the predictions \n",
    "\n",
    "    \"\"\"\n",
    "    model = Prophet(yearly_seasonality=True, weekly_seasonality=True, daily_seasonality=False, interval_width=0.95)\n",
    "    model.fit(series)\n",
    "    forecast = model.predict(timeframe)\n",
    "    return forecast"
   ]
  },
  {
   "cell_type": "code",
   "execution_count": 165,
   "metadata": {},
   "outputs": [],
   "source": [
    "small_sites = small_train[\"SITE\"].unique()\n",
    "# small_las = small_train[\"JOB_FAMILY_DESCRIPTION\"].unique()\n",
    "small_jfs = [\"Registered Nurse-DC1\", \"Registered Nurse-DC2A Sup\", \"Registered Nurse-DC2B\"]"
   ]
  },
  {
   "cell_type": "code",
   "execution_count": 166,
   "metadata": {},
   "outputs": [
    {
     "name": "stdout",
     "output_type": "stream",
     "text": [
      "Fitting - St Paul's Hospital Registered Nurse-DC1 : Done\n",
      "Fitting - St Paul's Hospital Registered Nurse-DC2A Sup : Done\n",
      "Fitting - St Paul's Hospital Registered Nurse-DC2B : Done\n",
      "Fitting - Mt St Joseph Registered Nurse-DC1 : Done\n",
      "Fitting - Mt St Joseph Registered Nurse-DC2A Sup : Done\n",
      "Fitting - Mt St Joseph Registered Nurse-DC2B : Done\n",
      "Fitting - Youville Residence Registered Nurse-DC1 : Done\n",
      "Fitting - Youville Residence Registered Nurse-DC2A Sup : Done\n",
      "Fitting - Youville Residence Registered Nurse-DC2B : Done\n",
      "Fitting - SVH Langara Registered Nurse-DC1 : Done\n",
      "Fitting - SVH Langara Registered Nurse-DC2A Sup : Done\n",
      "Fitting - SVH Langara Registered Nurse-DC2B : Done\n",
      "Fitting - Brock Fahrni Registered Nurse-DC1 : Done\n",
      "Fitting - Brock Fahrni Registered Nurse-DC2A Sup : Done\n",
      "Fitting - Brock Fahrni Registered Nurse-DC2B : Done\n",
      "Fitting - Holy Family Registered Nurse-DC1 : Done\n",
      "Fitting - Holy Family Registered Nurse-DC2A Sup : Done\n",
      "Fitting - Holy Family Registered Nurse-DC2B : Done\n"
     ]
    }
   ],
   "source": [
    "warnings.simplefilter('ignore')\n",
    "# create and store predictions and true results\n",
    "split_data = {}\n",
    "pred_results = {}\n",
    "true_results = {}\n",
    "for i in small_sites:\n",
    "    for j in small_jfs:\n",
    "        temp_data_train = splitting_train[(splitting_train[\"SITE\"]==i) & (splitting_train[\"JOB_FAMILY_DESCRIPTION\"]==j)].reset_index()\n",
    "        temp_data_val = splitting_val[(splitting_val[\"SITE\"]==i) & (splitting_val[\"JOB_FAMILY_DESCRIPTION\"]==j)].reset_index(drop=True)\n",
    "        split_data[(i, j)] = temp_data_train\n",
    "        true_results[(i, j)] = temp_data_val\n",
    "        try:\n",
    "            pred_results[(i, j)] = run_prophet(temp_data_train)\n",
    "            print(\"Fitting -\", i, j, \": Done\")\n",
    "        except ValueError:\n",
    "            pred_results[(i, j)] = None\n",
    "            print(\"Fitting -\", i, j, \": Failed\")"
   ]
  },
  {
   "cell_type": "code",
   "execution_count": 167,
   "metadata": {},
   "outputs": [],
   "source": [
    "# combine predictions and true results\n",
    "combined = {}\n",
    "for i in true_results:\n",
    "    if pred_results[i] is not None:\n",
    "        combined[i] = pd.merge(true_results[i], \n",
    "                               pred_results[i], \n",
    "                               on=\"ds\", \n",
    "                               how=\"outer\")[[\"ds\", \"y\", \"yhat\", \"yhat_lower\", \"yhat_upper\"]]"
   ]
  },
  {
   "cell_type": "code",
   "execution_count": 192,
   "metadata": {},
   "outputs": [],
   "source": [
    "# convert to week and calculating errors weekly\n",
    "weekly = {}\n",
    "for i in combined:\n",
    "    # create week column\n",
    "    combined[i][\"week\"] = combined[i][\"ds\"].dt.week\n",
    "    combined[i][\"ds\"] = combined[i][\"ds\"]-pd.DateOffset(weekday=0, weeks=1)\n",
    "    \n",
    "    # store y, yhat, yhat_lower, yhat_upper\n",
    "    weekly_y = combined[i].groupby(\"ds\").y.sum().reset_index()\n",
    "    weekly_yhat = combined[i].groupby(\"ds\").yhat.sum().reset_index()\n",
    "    weekly_yhat_lower = combined[i].groupby(\"ds\").yhat_lower.sum().reset_index()\n",
    "    weekly_yhat_upper = combined[i].groupby(\"ds\").yhat_upper.sum().reset_index()\n",
    "    \n",
    "    # merge weekly results\n",
    "    weekly[i] = pd.concat([weekly_y, weekly_yhat[\"yhat\"], \n",
    "                           weekly_yhat_lower[\"yhat_lower\"], \n",
    "                           weekly_yhat_upper[\"yhat_upper\"]], \n",
    "                          axis=1)\n",
    "\n",
    "    # create columns \"year\", \"site\", \"labor_agreement\"\n",
    "    length = weekly[i].shape[0]\n",
    "    weekly[i][\"week\"] = weekly[i][\"ds\"].dt.weekofyear\n",
    "    weekly[i][\"site\"] = np.repeat(i[0], length)\n",
    "    weekly[i][\"job_family_description\"] = np.repeat(i[1], length)"
   ]
  },
  {
   "cell_type": "code",
   "execution_count": 193,
   "metadata": {},
   "outputs": [
    {
     "name": "stdout",
     "output_type": "stream",
     "text": [
      "(\"St Paul's Hospital\", 'Registered Nurse-DC1'): MAPE: 5.512551013684407, MAE: 109.55401795446514\n",
      "(\"St Paul's Hospital\", 'Registered Nurse-DC2A Sup'): MAPE: 27.943083630209824, MAE: 32.98984164252051\n",
      "(\"St Paul's Hospital\", 'Registered Nurse-DC2B'): MAPE: 21.218907905427276, MAE: 17.928620317606935\n",
      "('Mt St Joseph', 'Registered Nurse-DC1'): MAPE: 11.168577366579292, MAE: 33.777793235903815\n",
      "('Mt St Joseph', 'Registered Nurse-DC2A Sup'): MAPE: 40.4183882680099, MAE: 7.425298648910728\n",
      "('Mt St Joseph', 'Registered Nurse-DC2B'): MAPE: inf, MAE: 5.334679386204028\n",
      "('Youville Residence', 'Registered Nurse-DC1'): MAPE: 21.583042539151638, MAE: 9.54113737152036\n",
      "('Youville Residence', 'Registered Nurse-DC2A Sup'): MAPE: inf, MAE: 5.240745311231194\n",
      "('Youville Residence', 'Registered Nurse-DC2B'): MAPE: inf, MAE: 5.912485166037487\n",
      "('SVH Langara', 'Registered Nurse-DC1'): MAPE: 19.98612848733887, MAE: 10.231121216901155\n",
      "('SVH Langara', 'Registered Nurse-DC2A Sup'): MAPE: inf, MAE: 6.015164831737406\n",
      "('SVH Langara', 'Registered Nurse-DC2B'): MAPE: inf, MAE: 5.981159990344486\n",
      "('Brock Fahrni', 'Registered Nurse-DC1'): MAPE: 24.537815504818532, MAE: 7.056157989633289\n",
      "('Brock Fahrni', 'Registered Nurse-DC2A Sup'): MAPE: inf, MAE: 4.181374207796958\n",
      "('Brock Fahrni', 'Registered Nurse-DC2B'): MAPE: inf, MAE: 5.232630788099331\n",
      "('Holy Family', 'Registered Nurse-DC1'): MAPE: 21.042797397991414, MAE: 15.210578187177173\n",
      "('Holy Family', 'Registered Nurse-DC2A Sup'): MAPE: inf, MAE: 5.1362191393167524\n",
      "('Holy Family', 'Registered Nurse-DC2B'): MAPE: inf, MAE: 5.383199132194478\n"
     ]
    }
   ],
   "source": [
    "for i in weekly:\n",
    "    print(\"{}: MAPE: {}, MAE: {}\".format(i, mape(weekly[i][\"y\"], weekly[i][\"yhat\"]), \n",
    "                                         mae(weekly[i][\"y\"], weekly[i][\"yhat\"])))"
   ]
  },
  {
   "cell_type": "markdown",
   "metadata": {},
   "source": [
    "## Aggregated"
   ]
  },
  {
   "cell_type": "code",
   "execution_count": 170,
   "metadata": {},
   "outputs": [],
   "source": [
    "def aggregate_error(data, variable=None, method=\"mape\"):\n",
    "    \"\"\"\n",
    "    Given the combined data from our generated forecast and\n",
    "    returns the aggregated error\n",
    "    \n",
    "    Key arguments:\n",
    "    --------------\n",
    "    data -- (dict) dictionary of data that we want to use\n",
    "    variable -- (str) variable name\n",
    "    method -- (str) mape or mae\n",
    "\n",
    "    Returns: \n",
    "    --------------\n",
    "    The aggregated MAPE or MAE of the forecast\n",
    "\n",
    "    \"\"\"\n",
    "    test_pred = timeframe.copy()\n",
    "    test_true = timeframe.copy()\n",
    "    if variable is None:\n",
    "        for i in data:\n",
    "            test_pred = pd.merge(test_pred, data[i][[\"ds\", \"yhat\"]], on=\"ds\")\n",
    "            test_true = pd.merge(test_true, data[i][[\"ds\", \"y\"]], on=\"ds\")\n",
    "    else:\n",
    "        for i in data:\n",
    "            if variable in i:\n",
    "                test_pred = pd.merge(test_pred, data[i][[\"ds\", \"yhat\"]], on=\"ds\")\n",
    "                test_true = pd.merge(test_true, data[i][[\"ds\", \"y\"]], on=\"ds\")\n",
    "    sum_pred = test_pred.sum(axis=1)\n",
    "    sum_true = test_true.sum(axis=1)\n",
    "    if method == \"mape\":\n",
    "        return mape(sum_true, sum_pred)\n",
    "    if method == \"mae\":\n",
    "        return mae(sum_true, sum_pred)"
   ]
  },
  {
   "cell_type": "code",
   "execution_count": 171,
   "metadata": {},
   "outputs": [
    {
     "name": "stdout",
     "output_type": "stream",
     "text": [
      "St Paul's Hospital: MAPE: 4.344306658217393, MAE: 100.56464376666628\n",
      "Mt St Joseph: MAPE: 12.32492927925902, MAE: 45.7546569430746\n",
      "Youville Residence: MAPE: 25.46818417134773, MAE: 10.411585160421323\n",
      "SVH Langara: MAPE: 33.80808342974436, MAE: 15.887742667625151\n",
      "Brock Fahrni: MAPE: 31.488990858683362, MAE: 10.744683215970541\n",
      "Holy Family: MAPE: 28.162748451431774, MAE: 18.668148030540557\n"
     ]
    }
   ],
   "source": [
    "# errors for each site\n",
    "for i in small_sites:\n",
    "    print(\"{}: MAPE: {}, MAE: {}\".format(i, aggregate_error(weekly, i, \"mape\"), aggregate_error(weekly, i, \"mae\")))"
   ]
  },
  {
   "cell_type": "code",
   "execution_count": 172,
   "metadata": {},
   "outputs": [
    {
     "name": "stdout",
     "output_type": "stream",
     "text": [
      "Registered Nurse-DC1: MAPE: 4.569268585519756, MAE: 120.62758986565096\n",
      "Registered Nurse-DC2A Sup: MAPE: 43.101229292541746, MAE: 69.12004056674738\n",
      "Registered Nurse-DC2B: MAPE: 20.685026745581972, MAE: 22.26098912090049\n"
     ]
    }
   ],
   "source": [
    "# errors for each labor agreement\n",
    "for i in small_jfs:\n",
    "    print(\"{}: MAPE: {}, MAE: {}\".format(i, aggregate_error(weekly, i, \"mape\"), aggregate_error(weekly, i, \"mae\")))"
   ]
  },
  {
   "cell_type": "code",
   "execution_count": 173,
   "metadata": {},
   "outputs": [
    {
     "name": "stdout",
     "output_type": "stream",
     "text": [
      "Total MAPE: 4.494611342228251\n",
      "Total MAE: 127.81690472960062\n"
     ]
    }
   ],
   "source": [
    "# total MAPE and MAE \n",
    "print(\"Total MAPE: {}\\nTotal MAE: {}\".format(aggregate_error(weekly, method=\"mape\"), \n",
    "                                             aggregate_error(weekly, method=\"mae\")))"
   ]
  },
  {
   "cell_type": "markdown",
   "metadata": {},
   "source": [
    "# Run below code to export tables"
   ]
  },
  {
   "cell_type": "code",
   "execution_count": 145,
   "metadata": {},
   "outputs": [],
   "source": [
    "# # export to \"data/predictions/\" directory\n",
    "# for i, j in weekly:\n",
    "#     weekly[(i,j)].to_csv(\"../data/predictions/{}_{}.csv\".format(i,j))"
   ]
  },
  {
   "cell_type": "code",
   "execution_count": 194,
   "metadata": {},
   "outputs": [],
   "source": [
    "# Create all_data\n",
    "total_data = pd.DataFrame()\n",
    "for i in weekly:\n",
    "    total_data = pd.concat([total_data, weekly[i]], axis=0)"
   ]
  },
  {
   "cell_type": "code",
   "execution_count": 195,
   "metadata": {},
   "outputs": [],
   "source": [
    "# export total data\n",
    "total_data.to_csv(\"../data/predictions/predictions.csv\")"
   ]
  },
  {
   "cell_type": "markdown",
   "metadata": {},
   "source": [
    "# Log"
   ]
  },
  {
   "cell_type": "code",
   "execution_count": 178,
   "metadata": {},
   "outputs": [],
   "source": [
    "# create training dataframes\n",
    "splitting_train = small_train.groupby([\"JOB_FAMILY_DESCRIPTION\", \"SITE\", \"SHIFT_DATE\"]).size().reset_index()\n",
    "splitting_train = splitting_train.rename({\"SHIFT_DATE\":\"ds\", 0:\"y\"}, axis=1)\n",
    "splitting_train[\"y\"] = np.log(splitting_train[\"y\"])\n",
    "\n",
    "# create validation dataframes\n",
    "splitting_val = small_val.groupby([\"JOB_FAMILY_DESCRIPTION\", \"SITE\", \"SHIFT_DATE\"]).size().reset_index()\n",
    "splitting_val = splitting_val.rename({\"SHIFT_DATE\":\"ds\", 0:\"y\"}, axis=1)\n",
    "splitting_val[\"y\"] = np.log(splitting_val[\"y\"])"
   ]
  },
  {
   "cell_type": "code",
   "execution_count": 180,
   "metadata": {},
   "outputs": [
    {
     "name": "stdout",
     "output_type": "stream",
     "text": [
      "Fitting - St Paul's Hospital Registered Nurse-DC1 : Done\n",
      "Fitting - St Paul's Hospital Registered Nurse-DC2A Sup : Done\n",
      "Fitting - St Paul's Hospital Registered Nurse-DC2B : Done\n",
      "Fitting - Mt St Joseph Registered Nurse-DC1 : Done\n",
      "Fitting - Mt St Joseph Registered Nurse-DC2A Sup : Done\n",
      "Fitting - Mt St Joseph Registered Nurse-DC2B : Done\n",
      "Fitting - Youville Residence Registered Nurse-DC1 : Done\n",
      "Fitting - Youville Residence Registered Nurse-DC2A Sup : Done\n",
      "Fitting - Youville Residence Registered Nurse-DC2B : Done\n",
      "Fitting - SVH Langara Registered Nurse-DC1 : Done\n",
      "Fitting - SVH Langara Registered Nurse-DC2A Sup : Done\n",
      "Fitting - SVH Langara Registered Nurse-DC2B : Done\n",
      "Fitting - Brock Fahrni Registered Nurse-DC1 : Done\n",
      "Fitting - Brock Fahrni Registered Nurse-DC2A Sup : Done\n",
      "Fitting - Brock Fahrni Registered Nurse-DC2B : Done\n",
      "Fitting - Holy Family Registered Nurse-DC1 : Done\n",
      "Fitting - Holy Family Registered Nurse-DC2A Sup : Done\n",
      "Fitting - Holy Family Registered Nurse-DC2B : Done\n"
     ]
    }
   ],
   "source": [
    "warnings.simplefilter('ignore')\n",
    "# create and store predictions and true results\n",
    "split_data = {}\n",
    "pred_results = {}\n",
    "true_results = {}\n",
    "for i in small_sites:\n",
    "    for j in small_jfs:\n",
    "        temp_data_train = splitting_train[(splitting_train[\"SITE\"]==i) & (splitting_train[\"JOB_FAMILY_DESCRIPTION\"]==j)].reset_index()\n",
    "        temp_data_val = splitting_val[(splitting_val[\"SITE\"]==i) & (splitting_val[\"JOB_FAMILY_DESCRIPTION\"]==j)].reset_index(drop=True)\n",
    "        split_data[(i, j)] = temp_data_train\n",
    "        true_results[(i, j)] = temp_data_val\n",
    "        try:\n",
    "            pred_results[(i, j)] = run_prophet(temp_data_train)\n",
    "            print(\"Fitting -\", i, j, \": Done\")\n",
    "        except ValueError:\n",
    "            pred_results[(i, j)] = None\n",
    "            print(\"Fitting -\", i, j, \": Failed\")"
   ]
  },
  {
   "cell_type": "code",
   "execution_count": 181,
   "metadata": {},
   "outputs": [],
   "source": [
    "# combine predictions and true results\n",
    "combined = {}\n",
    "for i in true_results:\n",
    "    if pred_results[i] is not None:\n",
    "        combined[i] = pd.merge(true_results[i], \n",
    "                               pred_results[i], \n",
    "                               on=\"ds\", \n",
    "                               how=\"outer\")[[\"ds\", \"y\", \"yhat\", \"yhat_lower\", \"yhat_upper\"]]\n",
    "        combined[i][\"y\"] = np.exp(combined[i][\"y\"])\n",
    "        combined[i][\"yhat\"] = np.exp(combined[i][\"yhat\"])\n",
    "        combined[i][\"yhat_lower\"] = np.exp(combined[i][\"yhat_lower\"])\n",
    "        combined[i][\"yhat_upper\"] = np.exp(combined[i][\"yhat_upper\"])"
   ]
  },
  {
   "cell_type": "code",
   "execution_count": 182,
   "metadata": {},
   "outputs": [],
   "source": [
    "# convert to week and calculating MAPE weekly\n",
    "weekly = {}\n",
    "for i in combined:\n",
    "    # create week column\n",
    "    combined[i][\"week\"] = combined[i][\"ds\"].dt.week\n",
    "    combined[i][\"ds\"] = combined[i][\"ds\"]-pd.DateOffset(weekday=0, weeks=1)\n",
    "    \n",
    "    # store y, yhat, yhat_lower, yhat_upper\n",
    "    weekly_y = combined[i].groupby(\"ds\").y.sum().reset_index()\n",
    "    weekly_yhat = combined[i].groupby(\"ds\").yhat.sum().reset_index()\n",
    "    weekly_yhat_lower = combined[i].groupby(\"ds\").yhat_lower.sum().reset_index()\n",
    "    weekly_yhat_upper = combined[i].groupby(\"ds\").yhat_upper.sum().reset_index()\n",
    "    \n",
    "    # merge weekly results\n",
    "    weekly[i] = pd.concat([weekly_y, weekly_yhat[\"yhat\"], \n",
    "                           weekly_yhat_lower[\"yhat_lower\"], \n",
    "                           weekly_yhat_upper[\"yhat_upper\"]], \n",
    "                          axis=1)\n",
    "\n",
    "    # create columns \"year\", \"site\", \"job_family\"\n",
    "    length = weekly[i].shape[0]\n",
    "    weekly[i][\"week\"] = weekly[i][\"ds\"].dt.weekofyear\n",
    "    weekly[i][\"site\"] = np.repeat(i[0], length)\n",
    "    weekly[i][\"job_family_description\"] = np.repeat(i[1], length)"
   ]
  },
  {
   "cell_type": "code",
   "execution_count": 183,
   "metadata": {},
   "outputs": [
    {
     "name": "stdout",
     "output_type": "stream",
     "text": [
      "(\"St Paul's Hospital\", 'Registered Nurse-DC1'): MAPE: 5.512551013684407, MAE: 109.55401795446514\n",
      "(\"St Paul's Hospital\", 'Registered Nurse-DC2A Sup'): MAPE: 27.943083630209824, MAE: 32.98984164252051\n",
      "(\"St Paul's Hospital\", 'Registered Nurse-DC2B'): MAPE: 21.218907905427276, MAE: 17.928620317606935\n",
      "('Mt St Joseph', 'Registered Nurse-DC1'): MAPE: 11.168577366579292, MAE: 33.777793235903815\n",
      "('Mt St Joseph', 'Registered Nurse-DC2A Sup'): MAPE: 40.4183882680099, MAE: 7.425298648910728\n",
      "('Mt St Joseph', 'Registered Nurse-DC2B'): MAPE: inf, MAE: 5.334679386204028\n",
      "('Youville Residence', 'Registered Nurse-DC1'): MAPE: 21.583042539151638, MAE: 9.54113737152036\n",
      "('Youville Residence', 'Registered Nurse-DC2A Sup'): MAPE: inf, MAE: 5.240745311231194\n",
      "('Youville Residence', 'Registered Nurse-DC2B'): MAPE: inf, MAE: 5.912485166037487\n",
      "('SVH Langara', 'Registered Nurse-DC1'): MAPE: 19.98612848733887, MAE: 10.231121216901155\n",
      "('SVH Langara', 'Registered Nurse-DC2A Sup'): MAPE: inf, MAE: 6.015164831737406\n",
      "('SVH Langara', 'Registered Nurse-DC2B'): MAPE: inf, MAE: 5.981159990344486\n",
      "('Brock Fahrni', 'Registered Nurse-DC1'): MAPE: 24.537815504818532, MAE: 7.056157989633289\n",
      "('Brock Fahrni', 'Registered Nurse-DC2A Sup'): MAPE: inf, MAE: 4.181374207796958\n",
      "('Brock Fahrni', 'Registered Nurse-DC2B'): MAPE: inf, MAE: 5.232630788099331\n",
      "('Holy Family', 'Registered Nurse-DC1'): MAPE: 21.042797397991414, MAE: 15.210578187177173\n",
      "('Holy Family', 'Registered Nurse-DC2A Sup'): MAPE: inf, MAE: 5.1362191393167524\n",
      "('Holy Family', 'Registered Nurse-DC2B'): MAPE: inf, MAE: 5.383199132194478\n"
     ]
    }
   ],
   "source": [
    "for i in weekly:\n",
    "    print(\"{}: MAPE: {}, MAE: {}\".format(i, mape(weekly[i][\"y\"], weekly[i][\"yhat\"]), \n",
    "                                         mae(weekly[i][\"y\"], weekly[i][\"yhat\"])))"
   ]
  },
  {
   "cell_type": "markdown",
   "metadata": {},
   "source": [
    "# Imagine I am trying to see the accuracy for Nurses (among all SITEs)"
   ]
  },
  {
   "cell_type": "code",
   "execution_count": 184,
   "metadata": {},
   "outputs": [
    {
     "name": "stdout",
     "output_type": "stream",
     "text": [
      "St Paul's Hospital: MAPE: 4.924758029725802, MAE: 114.72688240142189\n",
      "Mt St Joseph: MAPE: 9.859290451741284, MAE: 37.28136178073984\n",
      "Youville Residence: MAPE: 19.53535531361171, MAE: 8.352665963171658\n",
      "SVH Langara: MAPE: 26.219674570942665, MAE: 12.496797528626994\n",
      "Brock Fahrni: MAPE: 26.411613650029402, MAE: 9.354038135799522\n",
      "Holy Family: MAPE: 21.853833057653667, MAE: 15.670987196642471\n"
     ]
    }
   ],
   "source": [
    "# errors for each site\n",
    "for i in small_sites:\n",
    "    print(\"{}: MAPE: {}, MAE: {}\".format(i, aggregate_error(weekly, i, \"mape\"), aggregate_error(weekly, i, \"mae\")))"
   ]
  },
  {
   "cell_type": "code",
   "execution_count": 185,
   "metadata": {},
   "outputs": [
    {
     "name": "stdout",
     "output_type": "stream",
     "text": [
      "Registered Nurse-DC1: MAPE: 5.351934201932985, MAE: 142.8731383398502\n",
      "Registered Nurse-DC2A Sup: MAPE: 34.84778592619028, MAE: 55.358913953823894\n",
      "Registered Nurse-DC2B: MAPE: 18.98501861194816, MAE: 20.195307874522225\n"
     ]
    }
   ],
   "source": [
    "# errors for each job family\n",
    "for i in small_jfs:\n",
    "    print(\"{}: MAPE: {}, MAE: {}\".format(i, aggregate_error(weekly, i, \"mape\"), aggregate_error(weekly, i, \"mae\")))"
   ]
  },
  {
   "cell_type": "code",
   "execution_count": 186,
   "metadata": {},
   "outputs": [
    {
     "name": "stdout",
     "output_type": "stream",
     "text": [
      "Total MAPE: 4.6263107468339015\n",
      "Total MAE: 134.25149571047518\n"
     ]
    }
   ],
   "source": [
    "# total MAPE and MAE \n",
    "print(\"Total MAPE: {}\\nTotal MAE: {}\".format(aggregate_error(weekly, method=\"mape\"), \n",
    "                                             aggregate_error(weekly, method=\"mae\")))"
   ]
  },
  {
   "cell_type": "code",
   "execution_count": 188,
   "metadata": {},
   "outputs": [],
   "source": [
    "# Create all_data\n",
    "total_data_log = pd.DataFrame()\n",
    "for i in weekly:\n",
    "    total_data_log = pd.concat([total_data, weekly[i]], axis=0)"
   ]
  },
  {
   "cell_type": "code",
   "execution_count": 191,
   "metadata": {},
   "outputs": [],
   "source": [
    "total_data_log.to_csv(\"../data/predictions/predictions_log.csv\")"
   ]
  },
  {
   "cell_type": "code",
   "execution_count": null,
   "metadata": {},
   "outputs": [],
   "source": []
  }
 ],
 "metadata": {
  "kernelspec": {
   "display_name": "Python 3",
   "language": "python",
   "name": "python3"
  },
  "language_info": {
   "codemirror_mode": {
    "name": "ipython",
    "version": 3
   },
   "file_extension": ".py",
   "mimetype": "text/x-python",
   "name": "python",
   "nbconvert_exporter": "python",
   "pygments_lexer": "ipython3",
   "version": "3.7.2"
  }
 },
 "nbformat": 4,
 "nbformat_minor": 2
}
