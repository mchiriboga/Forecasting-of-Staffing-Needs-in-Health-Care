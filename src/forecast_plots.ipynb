{
 "cells": [
  {
   "cell_type": "markdown",
   "metadata": {},
   "source": [
    "# Plotting Weekly Forecast"
   ]
  },
  {
   "cell_type": "code",
   "execution_count": 24,
   "metadata": {},
   "outputs": [],
   "source": [
    "import pandas as pd\n",
    "import numpy as np\n",
    "import os\n",
    "\n",
    "%matplotlib inline\n",
    "import matplotlib.pyplot as plt\n",
    "import seaborn as sns\n",
    "\n",
    "import plotly.plotly as py\n",
    "import plotly.graph_objs as go\n"
   ]
  },
  {
   "cell_type": "code",
   "execution_count": 6,
   "metadata": {},
   "outputs": [
    {
     "data": {
      "text/html": [
       "<div>\n",
       "<style scoped>\n",
       "    .dataframe tbody tr th:only-of-type {\n",
       "        vertical-align: middle;\n",
       "    }\n",
       "\n",
       "    .dataframe tbody tr th {\n",
       "        vertical-align: top;\n",
       "    }\n",
       "\n",
       "    .dataframe thead th {\n",
       "        text-align: right;\n",
       "    }\n",
       "</style>\n",
       "<table border=\"1\" class=\"dataframe\">\n",
       "  <thead>\n",
       "    <tr style=\"text-align: right;\">\n",
       "      <th></th>\n",
       "      <th>Unnamed: 0</th>\n",
       "      <th>ds</th>\n",
       "      <th>y</th>\n",
       "      <th>yhat</th>\n",
       "      <th>yhat_lower</th>\n",
       "      <th>yhat_upper</th>\n",
       "      <th>week</th>\n",
       "      <th>site</th>\n",
       "      <th>job_family</th>\n",
       "    </tr>\n",
       "  </thead>\n",
       "  <tbody>\n",
       "    <tr>\n",
       "      <th>0</th>\n",
       "      <td>0</td>\n",
       "      <td>2016-12-26</td>\n",
       "      <td>382.0</td>\n",
       "      <td>479</td>\n",
       "      <td>359</td>\n",
       "      <td>602</td>\n",
       "      <td>52</td>\n",
       "      <td>St Paul's Hospital</td>\n",
       "      <td>Registered Nurse-DC1</td>\n",
       "    </tr>\n",
       "    <tr>\n",
       "      <th>1</th>\n",
       "      <td>1</td>\n",
       "      <td>2017-01-02</td>\n",
       "      <td>2002.0</td>\n",
       "      <td>1939</td>\n",
       "      <td>1515</td>\n",
       "      <td>2373</td>\n",
       "      <td>1</td>\n",
       "      <td>St Paul's Hospital</td>\n",
       "      <td>Registered Nurse-DC1</td>\n",
       "    </tr>\n",
       "    <tr>\n",
       "      <th>2</th>\n",
       "      <td>2</td>\n",
       "      <td>2017-01-09</td>\n",
       "      <td>2040.0</td>\n",
       "      <td>1975</td>\n",
       "      <td>1550</td>\n",
       "      <td>2421</td>\n",
       "      <td>2</td>\n",
       "      <td>St Paul's Hospital</td>\n",
       "      <td>Registered Nurse-DC1</td>\n",
       "    </tr>\n",
       "    <tr>\n",
       "      <th>3</th>\n",
       "      <td>3</td>\n",
       "      <td>2017-01-16</td>\n",
       "      <td>2082.0</td>\n",
       "      <td>1964</td>\n",
       "      <td>1540</td>\n",
       "      <td>2392</td>\n",
       "      <td>3</td>\n",
       "      <td>St Paul's Hospital</td>\n",
       "      <td>Registered Nurse-DC1</td>\n",
       "    </tr>\n",
       "    <tr>\n",
       "      <th>4</th>\n",
       "      <td>4</td>\n",
       "      <td>2017-01-23</td>\n",
       "      <td>2062.0</td>\n",
       "      <td>1918</td>\n",
       "      <td>1479</td>\n",
       "      <td>2343</td>\n",
       "      <td>4</td>\n",
       "      <td>St Paul's Hospital</td>\n",
       "      <td>Registered Nurse-DC1</td>\n",
       "    </tr>\n",
       "  </tbody>\n",
       "</table>\n",
       "</div>"
      ],
      "text/plain": [
       "   Unnamed: 0          ds       y  yhat  yhat_lower  yhat_upper  week  \\\n",
       "0           0  2016-12-26   382.0   479         359         602    52   \n",
       "1           1  2017-01-02  2002.0  1939        1515        2373     1   \n",
       "2           2  2017-01-09  2040.0  1975        1550        2421     2   \n",
       "3           3  2017-01-16  2082.0  1964        1540        2392     3   \n",
       "4           4  2017-01-23  2062.0  1918        1479        2343     4   \n",
       "\n",
       "                 site            job_family  \n",
       "0  St Paul's Hospital  Registered Nurse-DC1  \n",
       "1  St Paul's Hospital  Registered Nurse-DC1  \n",
       "2  St Paul's Hospital  Registered Nurse-DC1  \n",
       "3  St Paul's Hospital  Registered Nurse-DC1  \n",
       "4  St Paul's Hospital  Registered Nurse-DC1  "
      ]
     },
     "execution_count": 6,
     "metadata": {},
     "output_type": "execute_result"
    }
   ],
   "source": [
    "data = pd.read_csv(\"../data/predictions/predictions.csv\")\n",
    "data.head()"
   ]
  },
  {
   "cell_type": "code",
   "execution_count": 10,
   "metadata": {},
   "outputs": [],
   "source": [
    "sites = [\"St Paul's Hospital\", \"Mt St Joseph\", \"Holy Family\", \"SVH Langara\", \"Brock Fahrni\", \"Youville Residence\"]\n",
    "jfs = [\"Registered Nurse-DC1\", \"Registered Nurse-DC2A Sup\", \"Registered Nurse-DC2B\"]"
   ]
  },
  {
   "cell_type": "code",
   "execution_count": 13,
   "metadata": {},
   "outputs": [],
   "source": [
    "split_data = {}\n",
    "for i in sites:\n",
    "    for j in jfs:\n",
    "        split_data[(i, j)] = data[(data[\"site\"]==i) & (data[\"job_family\"]==j)]"
   ]
  },
  {
   "cell_type": "code",
   "execution_count": 30,
   "metadata": {},
   "outputs": [],
   "source": [
    "# plot natively in python\n",
    "\n",
    "# ax = plt.figure(figsize=(25,10))\n",
    "# ax = plt.xticks(rotation=50)\n",
    "# ax = sns.lineplot(data=test, x=\"ds\", y=\"y\", label=\"Actual\")\n",
    "# ax = sns.lineplot(data=test, x=\"ds\", y=\"yhat\", label=\"Forecast\", color=\"orange\")\n",
    "# ax.fill_between(data=test, x=\"ds\", y1='yhat_lower', y2='yhat_upper', color=\"orange\", alpha=0.2)"
   ]
  },
  {
   "cell_type": "markdown",
   "metadata": {},
   "source": [
    "# Sample plot"
   ]
  },
  {
   "cell_type": "code",
   "execution_count": 19,
   "metadata": {},
   "outputs": [
    {
     "data": {
      "text/plain": [
       "[(\"St Paul's Hospital\", 'Registered Nurse-DC1'),\n",
       " (\"St Paul's Hospital\", 'Registered Nurse-DC2A Sup'),\n",
       " (\"St Paul's Hospital\", 'Registered Nurse-DC2B'),\n",
       " ('Mt St Joseph', 'Registered Nurse-DC1'),\n",
       " ('Mt St Joseph', 'Registered Nurse-DC2A Sup'),\n",
       " ('Mt St Joseph', 'Registered Nurse-DC2B'),\n",
       " ('Holy Family', 'Registered Nurse-DC1'),\n",
       " ('Holy Family', 'Registered Nurse-DC2A Sup'),\n",
       " ('Holy Family', 'Registered Nurse-DC2B'),\n",
       " ('SVH Langara', 'Registered Nurse-DC1'),\n",
       " ('SVH Langara', 'Registered Nurse-DC2A Sup'),\n",
       " ('SVH Langara', 'Registered Nurse-DC2B'),\n",
       " ('Brock Fahrni', 'Registered Nurse-DC1'),\n",
       " ('Brock Fahrni', 'Registered Nurse-DC2A Sup'),\n",
       " ('Brock Fahrni', 'Registered Nurse-DC2B'),\n",
       " ('Youville Residence', 'Registered Nurse-DC1'),\n",
       " ('Youville Residence', 'Registered Nurse-DC2A Sup'),\n",
       " ('Youville Residence', 'Registered Nurse-DC2B')]"
      ]
     },
     "execution_count": 19,
     "metadata": {},
     "output_type": "execute_result"
    }
   ],
   "source": [
    "list(split_data.keys())"
   ]
  },
  {
   "cell_type": "code",
   "execution_count": 29,
   "metadata": {},
   "outputs": [],
   "source": [
    "# plot data sample\n",
    "site = \"SVH Langara\"\n",
    "job_family = 'Registered Nurse-DC1'\n",
    "plot_data = split_data[(site, job_family)]"
   ]
  },
  {
   "cell_type": "code",
   "execution_count": 30,
   "metadata": {},
   "outputs": [
    {
     "name": "stderr",
     "output_type": "stream",
     "text": [
      "/Users/patricktung/anaconda3/lib/python3.7/site-packages/IPython/core/display.py:689: UserWarning:\n",
      "\n",
      "Consider using IPython.display.IFrame instead\n",
      "\n"
     ]
    },
    {
     "data": {
      "text/html": [
       "<iframe id=\"igraph\" scrolling=\"no\" style=\"border:none;\" seamless=\"seamless\" src=\"https://plot.ly/~pokepoke4/4.embed\" height=\"525px\" width=\"100%\"></iframe>"
      ],
      "text/plain": [
       "<chart_studio.tools.PlotlyDisplay object>"
      ]
     },
     "execution_count": 30,
     "metadata": {},
     "output_type": "execute_result"
    }
   ],
   "source": [
    "x = plot_data[\"ds\"]\n",
    "y = plot_data[\"y\"]\n",
    "yhat = plot_data[\"yhat\"]\n",
    "yhat_lower = plot_data[\"yhat_lower\"]\n",
    "yhat_upper = plot_data[\"yhat_upper\"]\n",
    "\n",
    "upper_bound = go.Scatter(\n",
    "    name='Upper Bound',\n",
    "    x=x,\n",
    "    y=yhat_upper,\n",
    "    mode='lines',\n",
    "    line=dict(width=0.5, color=\"rgb(255, 255, 255)\"),\n",
    "    fillcolor='rgba(68, 68, 68, 0.1)',\n",
    "    fill='tonexty',\n",
    "    showlegend=False)\n",
    "\n",
    "trace1 = go.Scatter(\n",
    "    name='Actual',\n",
    "    x=x,\n",
    "    y=y,\n",
    "    mode='lines',\n",
    "    line=dict(color='rgb(31, 119, 180)'),)\n",
    "\n",
    "trace2 = go.Scatter(\n",
    "    name='Predictions',\n",
    "    x=x,\n",
    "    y=yhat,\n",
    "    mode='lines',\n",
    "    line=dict(color='rgb(246, 23, 26)'),)\n",
    "\n",
    "lower_bound = go.Scatter(\n",
    "    name='Lower Bound',\n",
    "    x=x,\n",
    "    y=yhat_lower,\n",
    "    mode='lines',\n",
    "    line=dict(width=0.5, color=\"rgb(255, 255, 255)\"),\n",
    "    showlegend=False)\n",
    "\n",
    "data = [lower_bound, upper_bound, trace2, trace1]\n",
    "\n",
    "py.iplot(data, filename='sample_plot')"
   ]
  },
  {
   "cell_type": "code",
   "execution_count": null,
   "metadata": {},
   "outputs": [],
   "source": []
  }
 ],
 "metadata": {
  "kernelspec": {
   "display_name": "Python 3",
   "language": "python",
   "name": "python3"
  },
  "language_info": {
   "codemirror_mode": {
    "name": "ipython",
    "version": 3
   },
   "file_extension": ".py",
   "mimetype": "text/x-python",
   "name": "python",
   "nbconvert_exporter": "python",
   "pygments_lexer": "ipython3",
   "version": "3.7.3"
  }
 },
 "nbformat": 4,
 "nbformat_minor": 2
}
