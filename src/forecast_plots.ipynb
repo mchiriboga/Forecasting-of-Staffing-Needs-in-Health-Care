{
 "cells": [
  {
   "cell_type": "markdown",
   "metadata": {},
   "source": [
    "# Plotting Weekly Forecast"
   ]
  },
  {
   "cell_type": "code",
   "execution_count": 14,
   "metadata": {},
   "outputs": [],
   "source": [
    "import pandas as pd\n",
    "import numpy as np\n",
    "import os\n",
    "\n",
    "%matplotlib inline\n",
    "import matplotlib.pyplot as plt\n",
    "import seaborn as sns\n"
   ]
  },
  {
   "cell_type": "code",
   "execution_count": 29,
   "metadata": {},
   "outputs": [],
   "source": [
    "all_data = {}\n",
    "path = \"../data/predictions/\"\n",
    "for filename in os.listdir(path):\n",
    "    site = filename[:filename.find(\"_\")]\n",
    "    labor = filename[filename.find(\"_\")+1:filename.find(\".\")]\n",
    "    if \".DS_Store\" not in filename:\n",
    "        all_data[(site, labor)] = pd.read_csv(path+filename, index_col=0)"
   ]
  },
  {
   "cell_type": "code",
   "execution_count": 30,
   "metadata": {},
   "outputs": [],
   "source": [
    "# plot natively in python\n",
    "\n",
    "# ax = plt.figure(figsize=(25,10))\n",
    "# ax = plt.xticks(rotation=50)\n",
    "# ax = sns.lineplot(data=test, x=\"ds\", y=\"y\", label=\"Actual\")\n",
    "# ax = sns.lineplot(data=test, x=\"ds\", y=\"yhat\", label=\"Forecast\", color=\"orange\")\n",
    "# ax.fill_between(data=test, x=\"ds\", y1='yhat_lower', y2='yhat_upper', color=\"orange\", alpha=0.2)"
   ]
  },
  {
   "cell_type": "markdown",
   "metadata": {},
   "source": [
    "# Sample plot"
   ]
  },
  {
   "cell_type": "code",
   "execution_count": 37,
   "metadata": {},
   "outputs": [],
   "source": [
    "# plot data sample\n",
    "site = \"St Paul's Hospital\"\n",
    "job_family = 'Registered Nurse-DC1'\n",
    "plot_data = all_data[(site, job_family)]"
   ]
  },
  {
   "cell_type": "code",
   "execution_count": 38,
   "metadata": {},
   "outputs": [
    {
     "data": {
      "text/html": [
       "<iframe id=\"igraph\" scrolling=\"no\" style=\"border:none;\" seamless=\"seamless\" src=\"https://plot.ly/~pokepoke4/4.embed\" height=\"525px\" width=\"100%\"></iframe>"
      ],
      "text/plain": [
       "<chart_studio.tools.PlotlyDisplay object>"
      ]
     },
     "execution_count": 38,
     "metadata": {},
     "output_type": "execute_result"
    }
   ],
   "source": [
    "import plotly.plotly as py\n",
    "import plotly.graph_objs as go\n",
    "\n",
    "x = plot_data[\"ds\"]\n",
    "y = plot_data[\"y\"]\n",
    "yhat = plot_data[\"yhat\"]\n",
    "yhat_lower = plot_data[\"yhat_lower\"]\n",
    "yhat_upper = plot_data[\"yhat_upper\"]\n",
    "\n",
    "upper_bound = go.Scatter(\n",
    "    name='Upper Bound',\n",
    "    x=x,\n",
    "    y=yhat_upper,\n",
    "    mode='lines',\n",
    "    line=dict(width=0.5, color=\"rgb(255, 255, 255)\"),\n",
    "    fillcolor='rgba(68, 68, 68, 0.1)',\n",
    "    fill='tonexty',\n",
    "    showlegend=False)\n",
    "\n",
    "trace1 = go.Scatter(\n",
    "    name='Actual',\n",
    "    x=x,\n",
    "    y=y,\n",
    "    mode='lines',\n",
    "    line=dict(color='rgb(31, 119, 180)'),)\n",
    "\n",
    "trace2 = go.Scatter(\n",
    "    name='Predictions',\n",
    "    x=x,\n",
    "    y=yhat,\n",
    "    mode='lines',\n",
    "    line=dict(color='rgb(246, 23, 26)'),)\n",
    "\n",
    "lower_bound = go.Scatter(\n",
    "    name='Lower Bound',\n",
    "    x=x,\n",
    "    y=yhat_lower,\n",
    "    mode='lines',\n",
    "    line=dict(width=0.5, color=\"rgb(255, 255, 255)\"),\n",
    "    showlegend=False)\n",
    "\n",
    "data = [lower_bound, upper_bound, trace2, trace1]\n",
    "\n",
    "py.iplot(data, filename='sample_plot')"
   ]
  },
  {
   "cell_type": "code",
   "execution_count": 64,
   "metadata": {},
   "outputs": [],
   "source": [
    "# Create all_data\n",
    "total_data = pd.DataFrame()\n",
    "for i in all_data:\n",
    "    total_data = pd.concat([total_data, all_data[i]], axis=0)"
   ]
  },
  {
   "cell_type": "code",
   "execution_count": 65,
   "metadata": {},
   "outputs": [],
   "source": [
    "export_data.to_csv(\"../data/predictions/total_data.csv\")"
   ]
  },
  {
   "cell_type": "code",
   "execution_count": null,
   "metadata": {},
   "outputs": [],
   "source": []
  }
 ],
 "metadata": {
  "kernelspec": {
   "display_name": "Python 3",
   "language": "python",
   "name": "python3"
  },
  "language_info": {
   "codemirror_mode": {
    "name": "ipython",
    "version": 3
   },
   "file_extension": ".py",
   "mimetype": "text/x-python",
   "name": "python",
   "nbconvert_exporter": "python",
   "pygments_lexer": "ipython3",
   "version": "3.6.5"
  }
 },
 "nbformat": 4,
 "nbformat_minor": 2
}
